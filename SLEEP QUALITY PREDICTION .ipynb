{
 "cells": [
  {
   "cell_type": "markdown",
   "metadata": {},
   "source": [
    "# Using Machine Learning to Predict Sleep Quality using FITBIT smartwatch data"
   ]
  },
  {
   "cell_type": "markdown",
   "metadata": {},
   "source": [
    "In this project, We applied various Machine Learning models to predict Fitbit Sleep Scores based on a sample of almost one year from nearly 16 people's sleep score data. We compare the accuracies of  different models and look into the feature importances in each of the models.Using sleep scores we can find the sleep quality of a person."
   ]
  },
  {
   "cell_type": "markdown",
   "metadata": {},
   "source": [
    "## Import the relevant libraries and data"
   ]
  },
  {
   "cell_type": "code",
   "execution_count": 56,
   "metadata": {},
   "outputs": [
    {
     "name": "stdout",
     "output_type": "stream",
     "text": [
      "All Libraries imported sudcessfuly\n"
     ]
    }
   ],
   "source": [
    "# Import all relevant libraries\n",
    "import pandas as pd\n",
    "import matplotlib.pyplot as plt\n",
    "import numpy as np\n",
    "import seaborn as sns\n",
    "from sklearn.preprocessing import MinMaxScaler\n",
    "from sklearn.preprocessing import StandardScaler\n",
    "from sklearn.model_selection import train_test_split\n",
    "from sklearn.linear_model import LinearRegression\n",
    "from sklearn.linear_model import Lasso\n",
    "from sklearn.ensemble import RandomForestRegressor\n",
    "from xgboost import XGBRegressor\n",
    "import statsmodels.api as sm\n",
    "from statsmodels.stats.outliers_influence import variance_inflation_factor\n",
    "from sklearn.metrics import mean_squared_error\n",
    "from sklearn.metrics import mean_absolute_error\n",
    "from sklearn.metrics import r2_score\n",
    "from sklearn.model_selection import cross_val_score\n",
    "from sklearn.model_selection import KFold\n",
    "from sklearn.model_selection import RandomizedSearchCV\n",
    "print(\"All Libraries imported sudcessfuly\")"
   ]
  },
  {
   "cell_type": "code",
   "execution_count": 57,
   "metadata": {},
   "outputs": [],
   "source": [
    "# Import the app data\n",
    "sleep_stats_data = pd.read_csv('sleep_stats.csv')\n",
    "\n",
    "# Import the score data\n",
    "sleep_score_data = pd.read_csv('sleep_score.csv').iloc[:,:2]"
   ]
  },
  {
   "cell_type": "code",
   "execution_count": 58,
   "metadata": {
    "scrolled": false
   },
   "outputs": [
    {
     "data": {
      "text/html": [
       "<div>\n",
       "<style scoped>\n",
       "    .dataframe tbody tr th:only-of-type {\n",
       "        vertical-align: middle;\n",
       "    }\n",
       "\n",
       "    .dataframe tbody tr th {\n",
       "        vertical-align: top;\n",
       "    }\n",
       "\n",
       "    .dataframe thead th {\n",
       "        text-align: right;\n",
       "    }\n",
       "</style>\n",
       "<table border=\"1\" class=\"dataframe\">\n",
       "  <thead>\n",
       "    <tr style=\"text-align: right;\">\n",
       "      <th></th>\n",
       "      <th>Sleep</th>\n",
       "      <th>Unnamed: 1</th>\n",
       "      <th>Unnamed: 2</th>\n",
       "      <th>Unnamed: 3</th>\n",
       "      <th>Unnamed: 4</th>\n",
       "      <th>Unnamed: 5</th>\n",
       "      <th>Unnamed: 6</th>\n",
       "      <th>Unnamed: 7</th>\n",
       "      <th>Unnamed: 8</th>\n",
       "    </tr>\n",
       "  </thead>\n",
       "  <tbody>\n",
       "    <tr>\n",
       "      <th>0</th>\n",
       "      <td>Start Time</td>\n",
       "      <td>End Time</td>\n",
       "      <td>Minutes Asleep</td>\n",
       "      <td>Minutes Awake</td>\n",
       "      <td>Number of Awakenings</td>\n",
       "      <td>Time in Bed</td>\n",
       "      <td>Minutes REM Sleep</td>\n",
       "      <td>Minutes Light Sleep</td>\n",
       "      <td>Minutes Deep Sleep</td>\n",
       "    </tr>\n",
       "    <tr>\n",
       "      <th>1</th>\n",
       "      <td>2020-07-01 10:05PM</td>\n",
       "      <td>2020-07-02 6:23AM</td>\n",
       "      <td>456</td>\n",
       "      <td>42</td>\n",
       "      <td>37</td>\n",
       "      <td>498</td>\n",
       "      <td>94</td>\n",
       "      <td>271</td>\n",
       "      <td>91</td>\n",
       "    </tr>\n",
       "    <tr>\n",
       "      <th>2</th>\n",
       "      <td>2020-06-30 9:43PM</td>\n",
       "      <td>2020-07-01 6:03AM</td>\n",
       "      <td>412</td>\n",
       "      <td>88</td>\n",
       "      <td>32</td>\n",
       "      <td>500</td>\n",
       "      <td>79</td>\n",
       "      <td>208</td>\n",
       "      <td>125</td>\n",
       "    </tr>\n",
       "    <tr>\n",
       "      <th>3</th>\n",
       "      <td>2020-06-29 10:03PM</td>\n",
       "      <td>2020-06-30 5:57AM</td>\n",
       "      <td>412</td>\n",
       "      <td>61</td>\n",
       "      <td>26</td>\n",
       "      <td>473</td>\n",
       "      <td>91</td>\n",
       "      <td>242</td>\n",
       "      <td>79</td>\n",
       "    </tr>\n",
       "    <tr>\n",
       "      <th>4</th>\n",
       "      <td>2020-06-28 11:24PM</td>\n",
       "      <td>2020-06-29 6:05AM</td>\n",
       "      <td>342</td>\n",
       "      <td>59</td>\n",
       "      <td>26</td>\n",
       "      <td>401</td>\n",
       "      <td>71</td>\n",
       "      <td>196</td>\n",
       "      <td>75</td>\n",
       "    </tr>\n",
       "  </tbody>\n",
       "</table>\n",
       "</div>"
      ],
      "text/plain": [
       "                Sleep         Unnamed: 1      Unnamed: 2     Unnamed: 3  \\\n",
       "0          Start Time           End Time  Minutes Asleep  Minutes Awake   \n",
       "1  2020-07-01 10:05PM  2020-07-02 6:23AM             456             42   \n",
       "2   2020-06-30 9:43PM  2020-07-01 6:03AM             412             88   \n",
       "3  2020-06-29 10:03PM  2020-06-30 5:57AM             412             61   \n",
       "4  2020-06-28 11:24PM  2020-06-29 6:05AM             342             59   \n",
       "\n",
       "             Unnamed: 4   Unnamed: 5         Unnamed: 6           Unnamed: 7  \\\n",
       "0  Number of Awakenings  Time in Bed  Minutes REM Sleep  Minutes Light Sleep   \n",
       "1                    37          498                 94                  271   \n",
       "2                    32          500                 79                  208   \n",
       "3                    26          473                 91                  242   \n",
       "4                    26          401                 71                  196   \n",
       "\n",
       "           Unnamed: 8  \n",
       "0  Minutes Deep Sleep  \n",
       "1                  91  \n",
       "2                 125  \n",
       "3                  79  \n",
       "4                  75  "
      ]
     },
     "execution_count": 58,
     "metadata": {},
     "output_type": "execute_result"
    }
   ],
   "source": [
    "# Inspect the first rows of the sleep stats DataFrame\n",
    "sleep_stats_data.head()"
   ]
  },
  {
   "cell_type": "code",
   "execution_count": 59,
   "metadata": {},
   "outputs": [
    {
     "name": "stdout",
     "output_type": "stream",
     "text": [
      "Hello\n"
     ]
    },
    {
     "data": {
      "text/html": [
       "<div>\n",
       "<style scoped>\n",
       "    .dataframe tbody tr th:only-of-type {\n",
       "        vertical-align: middle;\n",
       "    }\n",
       "\n",
       "    .dataframe tbody tr th {\n",
       "        vertical-align: top;\n",
       "    }\n",
       "\n",
       "    .dataframe thead th {\n",
       "        text-align: right;\n",
       "    }\n",
       "</style>\n",
       "<table border=\"1\" class=\"dataframe\">\n",
       "  <thead>\n",
       "    <tr style=\"text-align: right;\">\n",
       "      <th></th>\n",
       "      <th>Start Time</th>\n",
       "      <th>End Time</th>\n",
       "      <th>Minutes Asleep</th>\n",
       "      <th>Minutes Awake</th>\n",
       "      <th>Number of Awakenings</th>\n",
       "      <th>Time in Bed</th>\n",
       "      <th>Minutes REM Sleep</th>\n",
       "      <th>Minutes Light Sleep</th>\n",
       "      <th>Minutes Deep Sleep</th>\n",
       "    </tr>\n",
       "  </thead>\n",
       "  <tbody>\n",
       "    <tr>\n",
       "      <th>1</th>\n",
       "      <td>2020-07-01 10:05PM</td>\n",
       "      <td>2020-07-02 6:23AM</td>\n",
       "      <td>456</td>\n",
       "      <td>42</td>\n",
       "      <td>37</td>\n",
       "      <td>498</td>\n",
       "      <td>94</td>\n",
       "      <td>271</td>\n",
       "      <td>91</td>\n",
       "    </tr>\n",
       "    <tr>\n",
       "      <th>2</th>\n",
       "      <td>2020-06-30 9:43PM</td>\n",
       "      <td>2020-07-01 6:03AM</td>\n",
       "      <td>412</td>\n",
       "      <td>88</td>\n",
       "      <td>32</td>\n",
       "      <td>500</td>\n",
       "      <td>79</td>\n",
       "      <td>208</td>\n",
       "      <td>125</td>\n",
       "    </tr>\n",
       "    <tr>\n",
       "      <th>3</th>\n",
       "      <td>2020-06-29 10:03PM</td>\n",
       "      <td>2020-06-30 5:57AM</td>\n",
       "      <td>412</td>\n",
       "      <td>61</td>\n",
       "      <td>26</td>\n",
       "      <td>473</td>\n",
       "      <td>91</td>\n",
       "      <td>242</td>\n",
       "      <td>79</td>\n",
       "    </tr>\n",
       "    <tr>\n",
       "      <th>4</th>\n",
       "      <td>2020-06-28 11:24PM</td>\n",
       "      <td>2020-06-29 6:05AM</td>\n",
       "      <td>342</td>\n",
       "      <td>59</td>\n",
       "      <td>26</td>\n",
       "      <td>401</td>\n",
       "      <td>71</td>\n",
       "      <td>196</td>\n",
       "      <td>75</td>\n",
       "    </tr>\n",
       "    <tr>\n",
       "      <th>5</th>\n",
       "      <td>2020-06-27 10:42PM</td>\n",
       "      <td>2020-06-28 9:20AM</td>\n",
       "      <td>530</td>\n",
       "      <td>108</td>\n",
       "      <td>39</td>\n",
       "      <td>638</td>\n",
       "      <td>98</td>\n",
       "      <td>305</td>\n",
       "      <td>127</td>\n",
       "    </tr>\n",
       "    <tr>\n",
       "      <th>...</th>\n",
       "      <td>...</td>\n",
       "      <td>...</td>\n",
       "      <td>...</td>\n",
       "      <td>...</td>\n",
       "      <td>...</td>\n",
       "      <td>...</td>\n",
       "      <td>...</td>\n",
       "      <td>...</td>\n",
       "      <td>...</td>\n",
       "    </tr>\n",
       "    <tr>\n",
       "      <th>318</th>\n",
       "      <td>2019-07-12 11:11PM</td>\n",
       "      <td>2019-07-13 7:05AM</td>\n",
       "      <td>423</td>\n",
       "      <td>51</td>\n",
       "      <td>28</td>\n",
       "      <td>474</td>\n",
       "      <td>89</td>\n",
       "      <td>263</td>\n",
       "      <td>71</td>\n",
       "    </tr>\n",
       "    <tr>\n",
       "      <th>319</th>\n",
       "      <td>2019-07-11 9:58PM</td>\n",
       "      <td>2019-07-12 8:23AM</td>\n",
       "      <td>540</td>\n",
       "      <td>85</td>\n",
       "      <td>30</td>\n",
       "      <td>625</td>\n",
       "      <td>114</td>\n",
       "      <td>324</td>\n",
       "      <td>102</td>\n",
       "    </tr>\n",
       "    <tr>\n",
       "      <th>320</th>\n",
       "      <td>2019-07-10 9:43PM</td>\n",
       "      <td>2019-07-11 7:32AM</td>\n",
       "      <td>525</td>\n",
       "      <td>64</td>\n",
       "      <td>31</td>\n",
       "      <td>589</td>\n",
       "      <td>93</td>\n",
       "      <td>322</td>\n",
       "      <td>110</td>\n",
       "    </tr>\n",
       "    <tr>\n",
       "      <th>321</th>\n",
       "      <td>2019-07-09 9:12PM</td>\n",
       "      <td>2019-07-10 7:31AM</td>\n",
       "      <td>536</td>\n",
       "      <td>83</td>\n",
       "      <td>38</td>\n",
       "      <td>619</td>\n",
       "      <td>124</td>\n",
       "      <td>336</td>\n",
       "      <td>76</td>\n",
       "    </tr>\n",
       "    <tr>\n",
       "      <th>322</th>\n",
       "      <td>2019-07-07 10:53PM</td>\n",
       "      <td>2019-07-08 5:42AM</td>\n",
       "      <td>372</td>\n",
       "      <td>36</td>\n",
       "      <td>29</td>\n",
       "      <td>408</td>\n",
       "      <td>84</td>\n",
       "      <td>245</td>\n",
       "      <td>43</td>\n",
       "    </tr>\n",
       "  </tbody>\n",
       "</table>\n",
       "<p>322 rows × 9 columns</p>\n",
       "</div>"
      ],
      "text/plain": [
       "0            Start Time           End Time Minutes Asleep Minutes Awake  \\\n",
       "1    2020-07-01 10:05PM  2020-07-02 6:23AM            456            42   \n",
       "2     2020-06-30 9:43PM  2020-07-01 6:03AM            412            88   \n",
       "3    2020-06-29 10:03PM  2020-06-30 5:57AM            412            61   \n",
       "4    2020-06-28 11:24PM  2020-06-29 6:05AM            342            59   \n",
       "5    2020-06-27 10:42PM  2020-06-28 9:20AM            530           108   \n",
       "..                  ...                ...            ...           ...   \n",
       "318  2019-07-12 11:11PM  2019-07-13 7:05AM            423            51   \n",
       "319   2019-07-11 9:58PM  2019-07-12 8:23AM            540            85   \n",
       "320   2019-07-10 9:43PM  2019-07-11 7:32AM            525            64   \n",
       "321   2019-07-09 9:12PM  2019-07-10 7:31AM            536            83   \n",
       "322  2019-07-07 10:53PM  2019-07-08 5:42AM            372            36   \n",
       "\n",
       "0   Number of Awakenings Time in Bed Minutes REM Sleep Minutes Light Sleep  \\\n",
       "1                     37         498                94                 271   \n",
       "2                     32         500                79                 208   \n",
       "3                     26         473                91                 242   \n",
       "4                     26         401                71                 196   \n",
       "5                     39         638                98                 305   \n",
       "..                   ...         ...               ...                 ...   \n",
       "318                   28         474                89                 263   \n",
       "319                   30         625               114                 324   \n",
       "320                   31         589                93                 322   \n",
       "321                   38         619               124                 336   \n",
       "322                   29         408                84                 245   \n",
       "\n",
       "0   Minutes Deep Sleep  \n",
       "1                   91  \n",
       "2                  125  \n",
       "3                   79  \n",
       "4                   75  \n",
       "5                  127  \n",
       "..                 ...  \n",
       "318                 71  \n",
       "319                102  \n",
       "320                110  \n",
       "321                 76  \n",
       "322                 43  \n",
       "\n",
       "[322 rows x 9 columns]"
      ]
     },
     "execution_count": 59,
     "metadata": {},
     "output_type": "execute_result"
    }
   ],
   "source": [
    "print(\"Hello\")\n",
    "# Make the first row the column headers\n",
    "\n",
    "sleep_stats_data.columns = sleep_stats_data.iloc[0]\n",
    "# Drop the first row from the DataFrame\n",
    "sleep_stats_data.drop(sleep_stats_data.index[0], inplace=True)\n",
    "sleep_stats_data\n"
   ]
  },
  {
   "cell_type": "code",
   "execution_count": 60,
   "metadata": {},
   "outputs": [
    {
     "name": "stdout",
     "output_type": "stream",
     "text": [
      "<class 'pandas.core.frame.DataFrame'>\n",
      "Int64Index: 322 entries, 1 to 322\n",
      "Data columns (total 9 columns):\n",
      " #   Column                Non-Null Count  Dtype \n",
      "---  ------                --------------  ----- \n",
      " 0   Start Time            322 non-null    object\n",
      " 1   End Time              322 non-null    object\n",
      " 2   Minutes Asleep        322 non-null    object\n",
      " 3   Minutes Awake         322 non-null    object\n",
      " 4   Number of Awakenings  322 non-null    object\n",
      " 5   Time in Bed           322 non-null    object\n",
      " 6   Minutes REM Sleep     287 non-null    object\n",
      " 7   Minutes Light Sleep   287 non-null    object\n",
      " 8   Minutes Deep Sleep    287 non-null    object\n",
      "dtypes: object(9)\n",
      "memory usage: 25.2+ KB\n"
     ]
    }
   ],
   "source": [
    "# Obtain some information about the DataFrame\n",
    "sleep_stats_data.info()"
   ]
  },
  {
   "cell_type": "code",
   "execution_count": 6,
   "metadata": {},
   "outputs": [
    {
     "data": {
      "text/html": [
       "<div>\n",
       "<style scoped>\n",
       "    .dataframe tbody tr th:only-of-type {\n",
       "        vertical-align: middle;\n",
       "    }\n",
       "\n",
       "    .dataframe tbody tr th {\n",
       "        vertical-align: top;\n",
       "    }\n",
       "\n",
       "    .dataframe thead th {\n",
       "        text-align: right;\n",
       "    }\n",
       "</style>\n",
       "<table border=\"1\" class=\"dataframe\">\n",
       "  <thead>\n",
       "    <tr style=\"text-align: right;\">\n",
       "      <th></th>\n",
       "      <th>Start Time</th>\n",
       "      <th>End Time</th>\n",
       "      <th>Minutes Asleep</th>\n",
       "      <th>Minutes Awake</th>\n",
       "      <th>Number of Awakenings</th>\n",
       "      <th>Time in Bed</th>\n",
       "      <th>Minutes REM Sleep</th>\n",
       "      <th>Minutes Light Sleep</th>\n",
       "      <th>Minutes Deep Sleep</th>\n",
       "    </tr>\n",
       "  </thead>\n",
       "  <tbody>\n",
       "    <tr>\n",
       "      <th>77</th>\n",
       "      <td>2020-04-16 2:09PM</td>\n",
       "      <td>2020-04-16 3:27PM</td>\n",
       "      <td>76</td>\n",
       "      <td>2</td>\n",
       "      <td>0</td>\n",
       "      <td>78</td>\n",
       "      <td>NaN</td>\n",
       "      <td>NaN</td>\n",
       "      <td>NaN</td>\n",
       "    </tr>\n",
       "    <tr>\n",
       "      <th>103</th>\n",
       "      <td>2020-03-22 1:47PM</td>\n",
       "      <td>2020-03-22 3:21PM</td>\n",
       "      <td>83</td>\n",
       "      <td>1</td>\n",
       "      <td>1</td>\n",
       "      <td>93</td>\n",
       "      <td>NaN</td>\n",
       "      <td>NaN</td>\n",
       "      <td>NaN</td>\n",
       "    </tr>\n",
       "    <tr>\n",
       "      <th>115</th>\n",
       "      <td>2020-03-11 4:19PM</td>\n",
       "      <td>2020-03-11 5:24PM</td>\n",
       "      <td>55</td>\n",
       "      <td>6</td>\n",
       "      <td>1</td>\n",
       "      <td>65</td>\n",
       "      <td>NaN</td>\n",
       "      <td>NaN</td>\n",
       "      <td>NaN</td>\n",
       "    </tr>\n",
       "    <tr>\n",
       "      <th>121</th>\n",
       "      <td>2020-03-06 3:40PM</td>\n",
       "      <td>2020-03-06 4:40PM</td>\n",
       "      <td>53</td>\n",
       "      <td>7</td>\n",
       "      <td>0</td>\n",
       "      <td>60</td>\n",
       "      <td>NaN</td>\n",
       "      <td>NaN</td>\n",
       "      <td>NaN</td>\n",
       "    </tr>\n",
       "    <tr>\n",
       "      <th>134</th>\n",
       "      <td>2020-02-23 2:28PM</td>\n",
       "      <td>2020-02-23 3:42PM</td>\n",
       "      <td>68</td>\n",
       "      <td>5</td>\n",
       "      <td>0</td>\n",
       "      <td>74</td>\n",
       "      <td>NaN</td>\n",
       "      <td>NaN</td>\n",
       "      <td>NaN</td>\n",
       "    </tr>\n",
       "  </tbody>\n",
       "</table>\n",
       "</div>"
      ],
      "text/plain": [
       "0           Start Time           End Time Minutes Asleep Minutes Awake  \\\n",
       "77   2020-04-16 2:09PM  2020-04-16 3:27PM             76             2   \n",
       "103  2020-03-22 1:47PM  2020-03-22 3:21PM             83             1   \n",
       "115  2020-03-11 4:19PM  2020-03-11 5:24PM             55             6   \n",
       "121  2020-03-06 3:40PM  2020-03-06 4:40PM             53             7   \n",
       "134  2020-02-23 2:28PM  2020-02-23 3:42PM             68             5   \n",
       "\n",
       "0   Number of Awakenings Time in Bed Minutes REM Sleep Minutes Light Sleep  \\\n",
       "77                     0          78               NaN                 NaN   \n",
       "103                    1          93               NaN                 NaN   \n",
       "115                    1          65               NaN                 NaN   \n",
       "121                    0          60               NaN                 NaN   \n",
       "134                    0          74               NaN                 NaN   \n",
       "\n",
       "0   Minutes Deep Sleep  \n",
       "77                 NaN  \n",
       "103                NaN  \n",
       "115                NaN  \n",
       "121                NaN  \n",
       "134                NaN  "
      ]
     },
     "execution_count": 6,
     "metadata": {},
     "output_type": "execute_result"
    }
   ],
   "source": [
    "# Inspect the first five rows with missing values\n",
    "sleep_stats_data[sleep_stats_data['Minutes REM Sleep'].isna()].head()"
   ]
  },
  {
   "cell_type": "markdown",
   "metadata": {},
   "source": [
    "Start and finishing times for the sleep stats with NaNs for REM, Light and Deep sleep refer to afternoon naps. These should be excluded from our data set as they do not have a sleep score or the necessary sleep stats attached to them."
   ]
  },
  {
   "cell_type": "code",
   "execution_count": 7,
   "metadata": {},
   "outputs": [],
   "source": [
    "# Drop rows with NaNs\n",
    "sleep_stats_data.dropna(axis=0, inplace=True)"
   ]
  },
  {
   "cell_type": "code",
   "execution_count": 8,
   "metadata": {},
   "outputs": [],
   "source": [
    "# Convert columns 2-8 to data type float\n",
    "cols_to_convert = sleep_stats_data.columns[2:]\n",
    "sleep_stats_data[cols_to_convert] = sleep_stats_data[cols_to_convert].astype(float)"
   ]
  },
  {
   "cell_type": "code",
   "execution_count": 9,
   "metadata": {},
   "outputs": [
    {
     "name": "stdout",
     "output_type": "stream",
     "text": [
      "<class 'pandas.core.frame.DataFrame'>\n",
      "Int64Index: 287 entries, 1 to 322\n",
      "Data columns (total 9 columns):\n",
      " #   Column                Non-Null Count  Dtype  \n",
      "---  ------                --------------  -----  \n",
      " 0   Start Time            287 non-null    object \n",
      " 1   End Time              287 non-null    object \n",
      " 2   Minutes Asleep        287 non-null    float64\n",
      " 3   Minutes Awake         287 non-null    float64\n",
      " 4   Number of Awakenings  287 non-null    float64\n",
      " 5   Time in Bed           287 non-null    float64\n",
      " 6   Minutes REM Sleep     287 non-null    float64\n",
      " 7   Minutes Light Sleep   287 non-null    float64\n",
      " 8   Minutes Deep Sleep    287 non-null    float64\n",
      "dtypes: float64(7), object(2)\n",
      "memory usage: 22.4+ KB\n"
     ]
    }
   ],
   "source": [
    "sleep_stats_data.info()"
   ]
  },
  {
   "cell_type": "code",
   "execution_count": 10,
   "metadata": {},
   "outputs": [
    {
     "data": {
      "text/html": [
       "<div>\n",
       "<style scoped>\n",
       "    .dataframe tbody tr th:only-of-type {\n",
       "        vertical-align: middle;\n",
       "    }\n",
       "\n",
       "    .dataframe tbody tr th {\n",
       "        vertical-align: top;\n",
       "    }\n",
       "\n",
       "    .dataframe thead th {\n",
       "        text-align: right;\n",
       "    }\n",
       "</style>\n",
       "<table border=\"1\" class=\"dataframe\">\n",
       "  <thead>\n",
       "    <tr style=\"text-align: right;\">\n",
       "      <th></th>\n",
       "      <th>timestamp</th>\n",
       "      <th>overall_score</th>\n",
       "    </tr>\n",
       "  </thead>\n",
       "  <tbody>\n",
       "    <tr>\n",
       "      <th>0</th>\n",
       "      <td>2020-07-02T06:23:30Z</td>\n",
       "      <td>86</td>\n",
       "    </tr>\n",
       "    <tr>\n",
       "      <th>1</th>\n",
       "      <td>2020-07-01T06:03:30Z</td>\n",
       "      <td>77</td>\n",
       "    </tr>\n",
       "    <tr>\n",
       "      <th>2</th>\n",
       "      <td>2020-06-30T05:57:00Z</td>\n",
       "      <td>78</td>\n",
       "    </tr>\n",
       "    <tr>\n",
       "      <th>3</th>\n",
       "      <td>2020-06-29T06:05:00Z</td>\n",
       "      <td>76</td>\n",
       "    </tr>\n",
       "    <tr>\n",
       "      <th>4</th>\n",
       "      <td>2020-06-28T09:20:30Z</td>\n",
       "      <td>82</td>\n",
       "    </tr>\n",
       "  </tbody>\n",
       "</table>\n",
       "</div>"
      ],
      "text/plain": [
       "              timestamp  overall_score\n",
       "0  2020-07-02T06:23:30Z             86\n",
       "1  2020-07-01T06:03:30Z             77\n",
       "2  2020-06-30T05:57:00Z             78\n",
       "3  2020-06-29T06:05:00Z             76\n",
       "4  2020-06-28T09:20:30Z             82"
      ]
     },
     "execution_count": 10,
     "metadata": {},
     "output_type": "execute_result"
    }
   ],
   "source": [
    "# Inspect the first rows of the sleep score DataFrame\n",
    "sleep_score_data.head()"
   ]
  },
  {
   "cell_type": "code",
   "execution_count": 11,
   "metadata": {},
   "outputs": [
    {
     "name": "stdout",
     "output_type": "stream",
     "text": [
      "<class 'pandas.core.frame.DataFrame'>\n",
      "RangeIndex: 286 entries, 0 to 285\n",
      "Data columns (total 2 columns):\n",
      " #   Column         Non-Null Count  Dtype \n",
      "---  ------         --------------  ----- \n",
      " 0   timestamp      286 non-null    object\n",
      " 1   overall_score  286 non-null    int64 \n",
      "dtypes: int64(1), object(1)\n",
      "memory usage: 4.6+ KB\n"
     ]
    }
   ],
   "source": [
    "# Inspect the summary for the sleep score df\n",
    "sleep_score_data.info()"
   ]
  },
  {
   "cell_type": "markdown",
   "metadata": {},
   "source": [
    "I want to be able to merge the two DataFrames on the date. As of now there are slight differences in how the times are displayed. The sleep_stat DataFrame has both starting and ending dates but what we care about are ending dates (those are always the dates on which the sleep score is provided). I will drop the beginning date column, transform the dates so that they are in the same format across the two DataFrames and then merge the DataFrames on the date."
   ]
  },
  {
   "cell_type": "code",
   "execution_count": 12,
   "metadata": {},
   "outputs": [],
   "source": [
    "# Drop start time column from sleep_stat\n",
    "sleep_stats_data.drop(columns='Start Time', inplace=True)"
   ]
  },
  {
   "cell_type": "code",
   "execution_count": 13,
   "metadata": {},
   "outputs": [],
   "source": [
    "# Separate date into new column\n",
    "sleep_stats_data['Date'] = sleep_stats_data['End Time'].apply(lambda x: x[:10])\n",
    "sleep_score_data['Date'] = sleep_score_data.timestamp.apply(lambda x: x[:10])"
   ]
  },
  {
   "cell_type": "code",
   "execution_count": 14,
   "metadata": {},
   "outputs": [
    {
     "data": {
      "text/html": [
       "<div>\n",
       "<style scoped>\n",
       "    .dataframe tbody tr th:only-of-type {\n",
       "        vertical-align: middle;\n",
       "    }\n",
       "\n",
       "    .dataframe tbody tr th {\n",
       "        vertical-align: top;\n",
       "    }\n",
       "\n",
       "    .dataframe thead th {\n",
       "        text-align: right;\n",
       "    }\n",
       "</style>\n",
       "<table border=\"1\" class=\"dataframe\">\n",
       "  <thead>\n",
       "    <tr style=\"text-align: right;\">\n",
       "      <th></th>\n",
       "      <th>End Time</th>\n",
       "      <th>Minutes Asleep</th>\n",
       "      <th>Minutes Awake</th>\n",
       "      <th>Number of Awakenings</th>\n",
       "      <th>Time in Bed</th>\n",
       "      <th>Minutes REM Sleep</th>\n",
       "      <th>Minutes Light Sleep</th>\n",
       "      <th>Minutes Deep Sleep</th>\n",
       "      <th>Date</th>\n",
       "      <th>timestamp</th>\n",
       "      <th>overall_score</th>\n",
       "    </tr>\n",
       "  </thead>\n",
       "  <tbody>\n",
       "    <tr>\n",
       "      <th>0</th>\n",
       "      <td>2020-07-02 6:23AM</td>\n",
       "      <td>456.0</td>\n",
       "      <td>42.0</td>\n",
       "      <td>37.0</td>\n",
       "      <td>498.0</td>\n",
       "      <td>94.0</td>\n",
       "      <td>271.0</td>\n",
       "      <td>91.0</td>\n",
       "      <td>2020-07-02</td>\n",
       "      <td>2020-07-02T06:23:30Z</td>\n",
       "      <td>86.0</td>\n",
       "    </tr>\n",
       "    <tr>\n",
       "      <th>1</th>\n",
       "      <td>2020-07-01 6:03AM</td>\n",
       "      <td>412.0</td>\n",
       "      <td>88.0</td>\n",
       "      <td>32.0</td>\n",
       "      <td>500.0</td>\n",
       "      <td>79.0</td>\n",
       "      <td>208.0</td>\n",
       "      <td>125.0</td>\n",
       "      <td>2020-07-01</td>\n",
       "      <td>2020-07-01T06:03:30Z</td>\n",
       "      <td>77.0</td>\n",
       "    </tr>\n",
       "    <tr>\n",
       "      <th>2</th>\n",
       "      <td>2020-06-30 5:57AM</td>\n",
       "      <td>412.0</td>\n",
       "      <td>61.0</td>\n",
       "      <td>26.0</td>\n",
       "      <td>473.0</td>\n",
       "      <td>91.0</td>\n",
       "      <td>242.0</td>\n",
       "      <td>79.0</td>\n",
       "      <td>2020-06-30</td>\n",
       "      <td>2020-06-30T05:57:00Z</td>\n",
       "      <td>78.0</td>\n",
       "    </tr>\n",
       "    <tr>\n",
       "      <th>3</th>\n",
       "      <td>2020-06-29 6:05AM</td>\n",
       "      <td>342.0</td>\n",
       "      <td>59.0</td>\n",
       "      <td>26.0</td>\n",
       "      <td>401.0</td>\n",
       "      <td>71.0</td>\n",
       "      <td>196.0</td>\n",
       "      <td>75.0</td>\n",
       "      <td>2020-06-29</td>\n",
       "      <td>2020-06-29T06:05:00Z</td>\n",
       "      <td>76.0</td>\n",
       "    </tr>\n",
       "    <tr>\n",
       "      <th>4</th>\n",
       "      <td>2020-06-28 9:20AM</td>\n",
       "      <td>530.0</td>\n",
       "      <td>108.0</td>\n",
       "      <td>39.0</td>\n",
       "      <td>638.0</td>\n",
       "      <td>98.0</td>\n",
       "      <td>305.0</td>\n",
       "      <td>127.0</td>\n",
       "      <td>2020-06-28</td>\n",
       "      <td>2020-06-28T09:20:30Z</td>\n",
       "      <td>82.0</td>\n",
       "    </tr>\n",
       "  </tbody>\n",
       "</table>\n",
       "</div>"
      ],
      "text/plain": [
       "            End Time  Minutes Asleep  Minutes Awake  Number of Awakenings  \\\n",
       "0  2020-07-02 6:23AM           456.0           42.0                  37.0   \n",
       "1  2020-07-01 6:03AM           412.0           88.0                  32.0   \n",
       "2  2020-06-30 5:57AM           412.0           61.0                  26.0   \n",
       "3  2020-06-29 6:05AM           342.0           59.0                  26.0   \n",
       "4  2020-06-28 9:20AM           530.0          108.0                  39.0   \n",
       "\n",
       "   Time in Bed  Minutes REM Sleep  Minutes Light Sleep  Minutes Deep Sleep  \\\n",
       "0        498.0               94.0                271.0                91.0   \n",
       "1        500.0               79.0                208.0               125.0   \n",
       "2        473.0               91.0                242.0                79.0   \n",
       "3        401.0               71.0                196.0                75.0   \n",
       "4        638.0               98.0                305.0               127.0   \n",
       "\n",
       "         Date             timestamp  overall_score  \n",
       "0  2020-07-02  2020-07-02T06:23:30Z           86.0  \n",
       "1  2020-07-01  2020-07-01T06:03:30Z           77.0  \n",
       "2  2020-06-30  2020-06-30T05:57:00Z           78.0  \n",
       "3  2020-06-29  2020-06-29T06:05:00Z           76.0  \n",
       "4  2020-06-28  2020-06-28T09:20:30Z           82.0  "
      ]
     },
     "execution_count": 14,
     "metadata": {},
     "output_type": "execute_result"
    }
   ],
   "source": [
    "# Merge the two DataFrames\n",
    "joined_data = sleep_stats_data.merge(sleep_score_data, on='Date', how='left')\n",
    "joined_data.head()"
   ]
  },
  {
   "cell_type": "code",
   "execution_count": 15,
   "metadata": {},
   "outputs": [],
   "source": [
    "# Drop redundant columns\n",
    "sleep_data = joined_data.drop(columns=['End Time', 'timestamp', 'Date', 'Number of Awakenings'])"
   ]
  },
  {
   "cell_type": "code",
   "execution_count": 16,
   "metadata": {},
   "outputs": [],
   "source": [
    "# Drop last nan\n",
    "sleep_data.dropna(axis=0,inplace=True)"
   ]
  },
  {
   "cell_type": "code",
   "execution_count": 17,
   "metadata": {},
   "outputs": [
    {
     "data": {
      "text/html": [
       "<div>\n",
       "<style scoped>\n",
       "    .dataframe tbody tr th:only-of-type {\n",
       "        vertical-align: middle;\n",
       "    }\n",
       "\n",
       "    .dataframe tbody tr th {\n",
       "        vertical-align: top;\n",
       "    }\n",
       "\n",
       "    .dataframe thead th {\n",
       "        text-align: right;\n",
       "    }\n",
       "</style>\n",
       "<table border=\"1\" class=\"dataframe\">\n",
       "  <thead>\n",
       "    <tr style=\"text-align: right;\">\n",
       "      <th></th>\n",
       "      <th>Minutes Asleep</th>\n",
       "      <th>Minutes Awake</th>\n",
       "      <th>Time in Bed</th>\n",
       "      <th>Minutes REM Sleep</th>\n",
       "      <th>Minutes Light Sleep</th>\n",
       "      <th>Minutes Deep Sleep</th>\n",
       "      <th>overall_score</th>\n",
       "    </tr>\n",
       "  </thead>\n",
       "  <tbody>\n",
       "    <tr>\n",
       "      <th>0</th>\n",
       "      <td>456.0</td>\n",
       "      <td>42.0</td>\n",
       "      <td>498.0</td>\n",
       "      <td>94.0</td>\n",
       "      <td>271.0</td>\n",
       "      <td>91.0</td>\n",
       "      <td>86.0</td>\n",
       "    </tr>\n",
       "    <tr>\n",
       "      <th>1</th>\n",
       "      <td>412.0</td>\n",
       "      <td>88.0</td>\n",
       "      <td>500.0</td>\n",
       "      <td>79.0</td>\n",
       "      <td>208.0</td>\n",
       "      <td>125.0</td>\n",
       "      <td>77.0</td>\n",
       "    </tr>\n",
       "    <tr>\n",
       "      <th>2</th>\n",
       "      <td>412.0</td>\n",
       "      <td>61.0</td>\n",
       "      <td>473.0</td>\n",
       "      <td>91.0</td>\n",
       "      <td>242.0</td>\n",
       "      <td>79.0</td>\n",
       "      <td>78.0</td>\n",
       "    </tr>\n",
       "    <tr>\n",
       "      <th>3</th>\n",
       "      <td>342.0</td>\n",
       "      <td>59.0</td>\n",
       "      <td>401.0</td>\n",
       "      <td>71.0</td>\n",
       "      <td>196.0</td>\n",
       "      <td>75.0</td>\n",
       "      <td>76.0</td>\n",
       "    </tr>\n",
       "    <tr>\n",
       "      <th>4</th>\n",
       "      <td>530.0</td>\n",
       "      <td>108.0</td>\n",
       "      <td>638.0</td>\n",
       "      <td>98.0</td>\n",
       "      <td>305.0</td>\n",
       "      <td>127.0</td>\n",
       "      <td>82.0</td>\n",
       "    </tr>\n",
       "  </tbody>\n",
       "</table>\n",
       "</div>"
      ],
      "text/plain": [
       "   Minutes Asleep  Minutes Awake  Time in Bed  Minutes REM Sleep  \\\n",
       "0           456.0           42.0        498.0               94.0   \n",
       "1           412.0           88.0        500.0               79.0   \n",
       "2           412.0           61.0        473.0               91.0   \n",
       "3           342.0           59.0        401.0               71.0   \n",
       "4           530.0          108.0        638.0               98.0   \n",
       "\n",
       "   Minutes Light Sleep  Minutes Deep Sleep  overall_score  \n",
       "0                271.0                91.0           86.0  \n",
       "1                208.0               125.0           77.0  \n",
       "2                242.0                79.0           78.0  \n",
       "3                196.0                75.0           76.0  \n",
       "4                305.0               127.0           82.0  "
      ]
     },
     "execution_count": 17,
     "metadata": {},
     "output_type": "execute_result"
    }
   ],
   "source": [
    "# Look at first five rows\n",
    "sleep_data.head()"
   ]
  },
  {
   "cell_type": "code",
   "execution_count": 18,
   "metadata": {},
   "outputs": [
    {
     "name": "stdout",
     "output_type": "stream",
     "text": [
      "572\n"
     ]
    }
   ],
   "source": [
    "\n"
   ]
  },
  {
   "cell_type": "markdown",
   "metadata": {},
   "source": [
    "## Visualise the relationships between features and sleep score"
   ]
  },
  {
   "cell_type": "markdown",
   "metadata": {},
   "source": [
    "Finding relationship of each individual feature with overall sleep score."
   ]
  },
  {
   "cell_type": "code",
   "execution_count": 19,
   "metadata": {},
   "outputs": [],
   "source": [
    "# Define a function to plot the scatterplots of the relationships between all independent variables and the dependent\n",
    "# variable\n",
    "def plot_relationships(df, num_cols):\n",
    "    variables = df.columns\n",
    "    # This function assumes that the dependent variable is in the last column\n",
    "    dep_var = variables[-1]\n",
    "    ind_var = variables[:-1]\n",
    "    figs = len(dep_var)\n",
    "    num_cols = num_cols\n",
    "    num_rows = round(figs / num_cols) + 1\n",
    "    fig = 1\n",
    "    plt.figure(figsize=(20,30))\n",
    "    # Loop through all independent variables and create the scatter plot\n",
    "    for i in ind_var:\n",
    "        pltfignums = [str(num_rows), str(num_cols), str(fig)]\n",
    "        pltfig = int(''.join(pltfignums))\n",
    "        plt.subplot(pltfig)\n",
    "        plt.scatter(df[i], df[dep_var])\n",
    "        plt.xlabel(str(i))\n",
    "        plt.ylabel(str(dep_var))\n",
    "        fig +=1"
   ]
  },
  {
   "cell_type": "code",
   "execution_count": 20,
   "metadata": {},
   "outputs": [
    {
     "data": {
      "image/png": "[encoded data removed]",
      "text/plain": [
       "<Figure size 1440x2160 with 6 Axes>"
      ]
     },
     "metadata": {
      "needs_background": "light"
     },
     "output_type": "display_data"
    }
   ],
   "source": [
    "# Call the function with the reduced app data DataFrame and subplots in a grid of two columns\n",
    "plot_relationships(sleep_data, 3)"
   ]
  },
  {
   "cell_type": "markdown",
   "metadata": {},
   "source": [
    "Minutes Asleep and Minutes REM Sleep  have the strongest positive relationships with the overall sleep score. Generally speaking this makes sense because more time in bed should lead to more sleep, and therefore more quality sleep, and REM sleep has been found to be extremely important for many restorative functions and memory formation. "
   ]
  },
  {
   "cell_type": "code",
   "execution_count": 21,
   "metadata": {},
   "outputs": [
    {
     "data": {
      "text/plain": [
       "<AxesSubplot:>"
      ]
     },
     "execution_count": 21,
     "metadata": {},
     "output_type": "execute_result"
    },
    {
     "data": {
      "image/png": "[encoded data removed]",
      "text/plain": [
       "<Figure size 720x432 with 2 Axes>"
      ]
     },
     "metadata": {
      "needs_background": "light"
     },
     "output_type": "display_data"
    }
   ],
   "source": [
    "# Inspect the correlations\n",
    "plt.figure(figsize=(10, 6))\n",
    "sns.heatmap(sleep_data.corr(), annot=True, cmap='coolwarm', fmt='.2g')"
   ]
  },
  {
   "cell_type": "markdown",
   "metadata": {},
   "source": [
    "## Inspect sleep score distribution"
   ]
  },
  {
   "cell_type": "code",
   "execution_count": 22,
   "metadata": {},
   "outputs": [
    {
     "data": {
      "text/plain": [
       "32"
      ]
     },
     "execution_count": 22,
     "metadata": {},
     "output_type": "execute_result"
    }
   ],
   "source": [
    "# Find spread of sleep score values\n",
    "spread = int(max(sleep_data.overall_score) - min(sleep_data.overall_score))\n",
    "spread"
   ]
  },
  {
   "cell_type": "code",
   "execution_count": 23,
   "metadata": {},
   "outputs": [
    {
     "data": {
      "text/plain": [
       "<matplotlib.legend.Legend at 0x249afe65508>"
      ]
     },
     "execution_count": 23,
     "metadata": {},
     "output_type": "execute_result"
    },
    {
     "data": {
      "image/png": "[encoded data removed]",
      "text/plain": [
       "<Figure size 1080x576 with 1 Axes>"
      ]
     },
     "metadata": {
      "needs_background": "light"
     },
     "output_type": "display_data"
    }
   ],
   "source": [
    "# Plot sleep score histogram and its mean\n",
    "plt.figure(figsize=(15,8))\n",
    "plt.hist(sleep_data.overall_score, bins=spread)\n",
    "plt.axvline(sleep_data.overall_score.mean(), color='r', label='Average Sleep Score')\n",
    "plt.xlabel('Sleep Score')\n",
    "plt.ylabel('Frequency')\n",
    "plt.title('Sleep Score Distribution')\n",
    "plt.legend()"
   ]
  },
  {
   "cell_type": "markdown",
   "metadata": {},
   "source": [
    "The distribution of sleep scores is skewed to the left. This makes sense because bad night sleeps are more likely to occur than exceptionally good ones due to multiple reasons such as staying out late, having to gte up extremely early, etc. Given that the average sleep score in the data set is already relatively high at 82 and the upper limit being 100, it is by definition difficult to have many outliers that lie above the average."
   ]
  },
  {
   "cell_type": "markdown",
   "metadata": {},
   "source": [
    "## Split the data into training, validation and test set"
   ]
  },
  {
   "cell_type": "code",
   "execution_count": 24,
   "metadata": {},
   "outputs": [],
   "source": [
    "# Perform first split\n",
    "X_train_temp, X_test, y_train_temp, y_test = train_test_split(sleep_data.iloc[:,:-1], \n",
    "                                                              sleep_data['overall_score'], test_size=0.2, \n",
    "                                                              random_state=42)"
   ]
  },
  {
   "cell_type": "code",
   "execution_count": 25,
   "metadata": {},
   "outputs": [],
   "source": [
    "# Perform the second split\n",
    "X_train, X_valid, y_train, y_valid = train_test_split(X_train_temp, y_train_temp, test_size=0.25, random_state=42)"
   ]
  },
  {
   "cell_type": "code",
   "execution_count": 26,
   "metadata": {},
   "outputs": [
    {
     "data": {
      "text/plain": [
       "(342, 115, 115)"
      ]
     },
     "execution_count": 26,
     "metadata": {},
     "output_type": "execute_result"
    }
   ],
   "source": [
    "# Check the lengths of the different subsets\n",
    "len(X_train), len(X_valid), len(X_test)"
   ]
  },
  {
   "cell_type": "code",
   "execution_count": 27,
   "metadata": {},
   "outputs": [
    {
     "data": {
      "text/plain": [
       "6"
      ]
     },
     "execution_count": 27,
     "metadata": {},
     "output_type": "execute_result"
    }
   ],
   "source": [
    "len(X_valid.columns)"
   ]
  },
  {
   "cell_type": "code",
   "execution_count": 28,
   "metadata": {},
   "outputs": [
    {
     "data": {
      "text/plain": [
       "<AxesSubplot:>"
      ]
     },
     "execution_count": 28,
     "metadata": {},
     "output_type": "execute_result"
    },
    {
     "data": {
      "image/png": "[encoded data removed]",
      "text/plain": [
       "<Figure size 1080x576 with 1 Axes>"
      ]
     },
     "metadata": {
      "needs_background": "light"
     },
     "output_type": "display_data"
    }
   ],
   "source": [
    "plt.figure(figsize=(15,8))\n",
    "sns.boxplot(data=X_train.iloc[:,1:], orient='h', palette='Set2')"
   ]
  },
  {
   "cell_type": "markdown",
   "metadata": {},
   "source": [
    "## Scaling the Features"
   ]
  },
  {
   "cell_type": "markdown",
   "metadata": {},
   "source": [
    "Scaling the features"
   ]
  },
  {
   "cell_type": "code",
   "execution_count": 29,
   "metadata": {},
   "outputs": [
    {
     "data": {
      "text/plain": [
       "array([[ 0.62473348,  0.47008547,  0.62365591,  0.46357616,  0.53896104,\n",
       "         0.63157895],\n",
       "       [ 0.68017058,  0.5982906 ,  0.69713262,  0.66225166,  0.52597403,\n",
       "         0.63157895],\n",
       "       [ 0.41791045,  0.36752137,  0.42831541,  0.58940397,  0.25      ,\n",
       "         0.42857143],\n",
       "       [ 0.5565032 ,  0.5042735 ,  0.5734767 ,  0.47019868,  0.4512987 ,\n",
       "         0.58646617],\n",
       "       [ 0.73134328,  0.72649573,  0.76702509,  0.47682119,  0.61038961,\n",
       "         0.82706767],\n",
       "       [ 0.51385928,  0.4957265 ,  0.53584229,  0.39735099,  0.46428571,\n",
       "         0.4887218 ],\n",
       "       [ 0.7782516 ,  0.4017094 ,  0.73835125,  0.69536424,  0.55519481,\n",
       "         0.87218045],\n",
       "       [ 0.4434968 ,  0.24786325,  0.42473118,  0.46357616,  0.37337662,\n",
       "         0.37593985],\n",
       "       [ 0.65671642,  0.57264957,  0.67204301,  0.46357616,  0.63636364,\n",
       "         0.51879699],\n",
       "       [ 0.57782516,  0.29059829,  0.54659498,  0.7615894 ,  0.32467532,\n",
       "         0.62406015],\n",
       "       [ 0.53944563,  0.44444444,  0.54659498,  0.57615894,  0.3961039 ,\n",
       "         0.53383459],\n",
       "       [ 0.        ,  0.        ,  0.        ,  0.13245033,  0.        ,\n",
       "         0.05263158],\n",
       "       [ 0.80170576,  0.23931624,  0.72401434,  0.8013245 ,  0.71103896,\n",
       "         0.47368421],\n",
       "       [ 0.62473348,  0.47008547,  0.62365591,  0.46357616,  0.53896104,\n",
       "         0.63157895],\n",
       "       [ 0.59914712,  0.37606838,  0.58243728,  0.39072848,  0.55844156,\n",
       "         0.57894737],\n",
       "       [ 0.45842217,  0.44444444,  0.47849462,  0.44370861,  0.3474026 ,\n",
       "         0.5112782 ],\n",
       "       [ 0.37739872,  0.52136752,  0.4265233 ,  0.        ,  0.48376623,\n",
       "         0.41353383],\n",
       "       [ 0.63752665,  0.35897436,  0.61111111,  0.52317881,  0.66233766,\n",
       "         0.32330827],\n",
       "       [ 0.51385928,  0.47008547,  0.53046595,  0.41059603,  0.50974026,\n",
       "         0.36842105],\n",
       "       [ 0.67377399,  0.36752137,  0.64336918,  0.62251656,  0.48701299,\n",
       "         0.7443609 ],\n",
       "       [ 0.60127932,  0.4017094 ,  0.58960573,  0.61589404,  0.42857143,\n",
       "         0.63157895],\n",
       "       [ 0.46055437,  0.42735043,  0.47670251,  0.43708609,  0.60064935,\n",
       "        -0.06015038],\n",
       "       [ 0.44136461,  0.35897436,  0.44623656,  0.31125828,  0.2987013 ,\n",
       "         0.71428571],\n",
       "       [ 0.52665245,  0.42735043,  0.53225806,  0.26490066,  0.53246753,\n",
       "         0.52631579],\n",
       "       [ 0.58848614,  0.61538462,  0.62365591,  0.43708609,  0.57467532,\n",
       "         0.45112782],\n",
       "       [ 0.48614072,  0.38461538,  0.48924731,  0.47682119,  0.4025974 ,\n",
       "         0.44360902],\n",
       "       [ 0.71002132,  0.51282051,  0.70430108,  0.62913907,  0.6525974 ,\n",
       "         0.48120301],\n",
       "       [ 0.58848614,  0.61538462,  0.62365591,  0.43708609,  0.57467532,\n",
       "         0.45112782],\n",
       "       [ 0.55010661,  0.38461538,  0.54301075,  0.45695364,  0.41558442,\n",
       "         0.66165414],\n",
       "       [ 0.60127932,  0.4017094 ,  0.58960573,  0.61589404,  0.42857143,\n",
       "         0.63157895],\n",
       "       [ 0.35394456,  0.1965812 ,  0.33870968,  0.28476821,  0.31818182,\n",
       "         0.39097744],\n",
       "       [ 0.7249467 ,  0.56410256,  0.72759857,  0.65562914,  0.72077922,\n",
       "         0.34586466],\n",
       "       [ 0.65884861,  0.47008547,  0.65232975,  0.29801325,  0.80844156,\n",
       "         0.31578947],\n",
       "       [ 0.80170576,  0.23931624,  0.72401434,  0.8013245 ,  0.71103896,\n",
       "         0.47368421],\n",
       "       [ 0.47121535,  0.4957265 ,  0.5       ,  0.42384106,  0.28571429,\n",
       "         0.72180451],\n",
       "       [ 0.65884861,  0.57264957,  0.67383513,  0.58278146,  0.66558442,\n",
       "         0.32330827],\n",
       "       [ 0.6673774 ,  0.45299145,  0.65591398,  0.75496689,  0.50974026,\n",
       "         0.51879699],\n",
       "       [ 0.7228145 ,  0.64957265,  0.7437276 ,  0.59602649,  0.57142857,\n",
       "         0.7518797 ],\n",
       "       [ 0.31130064,  0.35897436,  0.33691756,  0.30463576,  0.26623377,\n",
       "         0.33834586],\n",
       "       [ 0.67377399,  0.41880342,  0.65412186,  0.58278146,  0.49350649,\n",
       "         0.77443609],\n",
       "       [ 0.71002132,  0.60683761,  0.72401434,  0.2384106 ,  0.94155844,\n",
       "         0.2556391 ],\n",
       "       [ 0.45628998,  0.43589744,  0.47491039,  0.57615894,  0.24350649,\n",
       "         0.59398496],\n",
       "       [ 0.58422175,  0.52991453,  0.60215054,  0.26490066,  0.61363636,\n",
       "         0.54135338],\n",
       "       [ 0.61833689,  0.43589744,  0.61111111,  0.61589404,  0.35064935,\n",
       "         0.87218045],\n",
       "       [ 0.57142857,  0.26495726,  0.53584229,  0.64238411,  0.38311688,\n",
       "         0.60150376],\n",
       "       [ 0.60554371,  0.56410256,  0.62724014,  0.32450331,  0.61688312,\n",
       "         0.54135338],\n",
       "       [ 0.66311301,  0.52991453,  0.66845878,  0.64900662,  0.6525974 ,\n",
       "         0.29323308],\n",
       "       [ 0.54371002,  0.53846154,  0.56989247,  0.50331126,  0.4512987 ,\n",
       "         0.5037594 ],\n",
       "       [ 0.46908316,  0.34188034,  0.46594982,  0.45695364,  0.36363636,\n",
       "         0.4962406 ],\n",
       "       [ 0.75053305,  0.47863248,  0.7311828 ,  0.49006623,  0.88311688,\n",
       "         0.2481203 ],\n",
       "       [ 0.52878465,  0.47008547,  0.54301075,  0.41059603,  0.41233766,\n",
       "         0.64661654],\n",
       "       [ 0.56289979,  0.33333333,  0.54301075,  0.50331126,  0.42207792,\n",
       "         0.63909774],\n",
       "       [ 0.71215352,  0.54700855,  0.71326165,  0.8013245 ,  0.52272727,\n",
       "         0.59398496],\n",
       "       [ 0.64179104,  0.46153846,  0.63620072,  0.25827815,  0.69805195,\n",
       "         0.55639098],\n",
       "       [ 0.69722814,  0.61538462,  0.71505376,  0.35761589,  0.67857143,\n",
       "         0.68421053],\n",
       "       [ 0.63965885,  0.58119658,  0.65949821,  0.52317881,  0.66233766,\n",
       "         0.33082707],\n",
       "       [ 0.47121535,  0.4957265 ,  0.5       ,  0.42384106,  0.28571429,\n",
       "         0.72180451],\n",
       "       [ 0.45842217,  0.44444444,  0.47849462,  0.44370861,  0.3474026 ,\n",
       "         0.5112782 ],\n",
       "       [ 0.86140725,  0.58974359,  0.84767025,  0.56291391,  0.83441558,\n",
       "         0.66917293],\n",
       "       [ 0.37739872,  0.14529915,  0.34767025,  0.43708609,  0.25974026,\n",
       "         0.43609023],\n",
       "       [ 0.81663113,  0.44444444,  0.77956989,  0.78145695,  0.63961039,\n",
       "         0.71428571],\n",
       "       [ 0.46055437,  0.60683761,  0.51433692,  0.35761589,  0.30519481,\n",
       "         0.71428571],\n",
       "       [ 0.73347548,  0.58119658,  0.73835125,  0.58940397,  0.68181818,\n",
       "         0.54135338],\n",
       "       [ 0.53304904,  0.28205128,  0.50716846,  0.82119205,  0.21753247,\n",
       "         0.64661654],\n",
       "       [ 0.36034115,  0.31623932,  0.36917563,  0.31125828,  0.32792208,\n",
       "         0.36090226],\n",
       "       [ 0.71215352,  0.60683761,  0.72580645,  0.57615894,  0.62012987,\n",
       "         0.62406015],\n",
       "       [ 0.61407249,  0.52991453,  0.62724014,  0.29801325,  0.58766234,\n",
       "         0.66917293],\n",
       "       [ 0.81663113,  0.44444444,  0.77956989,  0.78145695,  0.63961039,\n",
       "         0.71428571],\n",
       "       [ 0.85074627,  0.5982906 ,  0.84050179,  1.08609272,  0.46103896,\n",
       "         0.90225564],\n",
       "       [ 0.46908316,  0.41880342,  0.48207885,  0.54966887,  0.44480519,\n",
       "         0.20300752],\n",
       "       [ 0.82729211,  0.69230769,  0.84050179,  0.66887417,  0.61688312,\n",
       "         0.93233083],\n",
       "       [ 0.6673774 ,  0.45299145,  0.65591398,  0.75496689,  0.50974026,\n",
       "         0.51879699],\n",
       "       [ 0.54584222,  0.55555556,  0.57526882,  0.65562914,  0.3474026 ,\n",
       "         0.57894737],\n",
       "       [ 0.59488273,  0.51282051,  0.60752688,  0.37748344,  0.58116883,\n",
       "         0.52631579],\n",
       "       [ 0.52025586,  0.48717949,  0.53942652,  0.33112583,  0.56493506,\n",
       "         0.35338346],\n",
       "       [ 0.60341151,  0.33333333,  0.57706093,  0.58278146,  0.47077922,\n",
       "         0.57894737],\n",
       "       [ 0.59914712,  0.37606838,  0.58243728,  0.29801325,  0.67207792,\n",
       "         0.42105263],\n",
       "       [ 0.67377399,  0.36752137,  0.64336918,  0.62251656,  0.48701299,\n",
       "         0.7443609 ],\n",
       "       [ 0.22601279,  0.39316239,  0.27240143,  0.        ,  0.32792208,\n",
       "         0.2406015 ],\n",
       "       [ 0.72921109,  0.37606838,  0.69175627,  0.63576159,  0.65584416,\n",
       "         0.53383459],\n",
       "       [ 0.67803838,  0.70940171,  0.71863799,  0.68874172,  0.59090909,\n",
       "         0.44360902],\n",
       "       [ 0.47761194,  0.41025641,  0.4874552 ,  0.42384106,  0.44805195,\n",
       "         0.36842105],\n",
       "       [ 0.4989339 ,  0.34188034,  0.49103943,  0.58278146,  0.40584416,\n",
       "         0.36090226],\n",
       "       [ 0.57569296,  0.48717949,  0.58602151,  0.91390728,  0.23051948,\n",
       "         0.66165414],\n",
       "       [ 0.39872068,  0.22222222,  0.38172043,  0.62251656,  0.23701299,\n",
       "         0.35338346],\n",
       "       [ 0.48400853,  0.29059829,  0.46774194,  0.42384106,  0.48376623,\n",
       "         0.30827068],\n",
       "       [ 0.71215352,  0.77777778,  0.76164875,  0.48344371,  0.62012987,\n",
       "         0.72932331],\n",
       "       [ 0.98507463,  0.58974359,  0.9516129 ,  1.09271523,  0.66558442,\n",
       "         0.89473684],\n",
       "       [ 0.54584222,  0.43589744,  0.55017921,  0.55629139,  0.41883117,\n",
       "         0.52631579],\n",
       "       [ 0.53944563,  0.45299145,  0.5483871 ,  0.36423841,  0.49675325,\n",
       "         0.54135338],\n",
       "       [ 0.57569296,  0.33333333,  0.55376344,  0.52317881,  0.55519481,\n",
       "         0.35338346],\n",
       "       [ 0.6098081 ,  0.36752137,  0.58960573,  0.61589404,  0.46753247,\n",
       "         0.57142857],\n",
       "       [ 0.52025586,  0.35042735,  0.51075269,  0.53642384,  0.37987013,\n",
       "         0.54887218],\n",
       "       [ 0.52452026,  0.41025641,  0.52688172,  0.39735099,  0.56818182,\n",
       "         0.28571429],\n",
       "       [ 0.57995736,  0.39316239,  0.56989247,  0.51655629,  0.5487013 ,\n",
       "         0.39097744],\n",
       "       [ 0.52238806,  0.56410256,  0.55734767,  0.35761589,  0.43181818,\n",
       "         0.63909774],\n",
       "       [ 0.70149254,  0.4017094 ,  0.67383513,  0.45033113,  0.67532468,\n",
       "         0.60150376],\n",
       "       [ 0.3901919 ,  0.35042735,  0.40143369,  0.26490066,  0.30194805,\n",
       "         0.57894737],\n",
       "       [ 0.39872068,  0.22222222,  0.38172043,  0.62251656,  0.23701299,\n",
       "         0.35338346],\n",
       "       [ 0.60767591,  0.47008547,  0.609319  ,  0.56953642,  0.54220779,\n",
       "         0.44360902],\n",
       "       [ 0.41577825,  0.5042735 ,  0.45519713,  0.21854305,  0.38636364,\n",
       "         0.52631579],\n",
       "       [ 0.47334755,  0.45299145,  0.49283154,  0.36423841,  0.54220779,\n",
       "         0.20300752],\n",
       "       [ 0.48614072,  0.38461538,  0.48924731,  0.47682119,  0.4025974 ,\n",
       "         0.44360902],\n",
       "       [ 0.51599147,  0.52991453,  0.54480287,  0.37748344,  0.37987013,\n",
       "         0.71428571],\n",
       "       [ 0.6098081 ,  0.52136752,  0.6218638 ,  0.18543046,  0.74350649,\n",
       "         0.42105263],\n",
       "       [ 0.7228145 ,  0.51282051,  0.71505376,  0.7615894 ,  0.59415584,\n",
       "         0.5112782 ],\n",
       "       [ 0.71002132,  0.76068376,  0.7562724 ,  0.43046358,  0.75649351,\n",
       "         0.46616541],\n",
       "       [ 0.77185501,  0.52991453,  0.75985663,  0.36423841,  0.69480519,\n",
       "         0.90225564],\n",
       "       [ 0.71215352,  0.43589744,  0.68996416,  0.77483444,  0.52272727,\n",
       "         0.62406015],\n",
       "       [ 0.50319829,  0.16239316,  0.45698925,  0.43046358,  0.48376623,\n",
       "         0.36842105],\n",
       "       [ 0.49253731,  0.32478632,  0.48207885,  0.38410596,  0.37012987,\n",
       "         0.64661654],\n",
       "       [ 0.62899787,  0.56410256,  0.64695341,  0.54966887,  0.43506494,\n",
       "         0.78947368],\n",
       "       [ 0.59914712,  0.61538462,  0.63261649,  0.57615894,  0.4025974 ,\n",
       "         0.72932331],\n",
       "       [ 0.71641791,  0.54700855,  0.71684588,  0.79470199,  0.50974026,\n",
       "         0.64661654],\n",
       "       [ 0.5010661 ,  0.47863248,  0.52150538,  0.47019868,  0.39935065,\n",
       "         0.5112782 ]])"
      ]
     },
     "execution_count": 29,
     "metadata": {},
     "output_type": "execute_result"
    }
   ],
   "source": [
    "# Create the scaler with object range of 0-1\n",
    "scaler = MinMaxScaler()\n",
    "\n",
    "# Fit and transform using the training data\n",
    "scaler.fit_transform(X_train)\n",
    "\n",
    "# Transform the validation and test features\n",
    "scaler.transform(X_valid)\n",
    "scaler.transform(X_test)"
   ]
  },
  {
   "cell_type": "markdown",
   "metadata": {},
   "source": [
    "## Feature Selection using Lasso Regression"
   ]
  },
  {
   "cell_type": "markdown",
   "metadata": {},
   "source": [
    "Fitting a linear regression minimises a loss function by choosing coefficients for each feature variable. One problem with that is that large coefficients can lead to overfitting, meaning that the model will perform well on the training data but poorly on data it has never seen before. This is where regularisation comes in. Essentially, you just alter the loss function to penalise large coefficients. Lasso Regression, unlike the closely related Ridge Regression, can be used to select important features of a dataset. This is because it tends tos hrink the coefficients of less important features to close to zero."
   ]
  },
  {
   "cell_type": "code",
   "execution_count": 30,
   "metadata": {},
   "outputs": [
    {
     "data": {
      "text/plain": [
       "Lasso(alpha=0.1)"
      ]
     },
     "execution_count": 30,
     "metadata": {},
     "output_type": "execute_result"
    }
   ],
   "source": [
    "# Create the model\n",
    "lasso = Lasso(alpha=0.1)\n",
    "\n",
    "# Fit the model to the training data\n",
    "lasso.fit(X_train, y_train)"
   ]
  },
  {
   "cell_type": "code",
   "execution_count": 31,
   "metadata": {},
   "outputs": [
    {
     "data": {
      "text/plain": [
       "Text(0.5, 1.0, 'Lasso coefficients for sleep data features')"
      ]
     },
     "execution_count": 31,
     "metadata": {},
     "output_type": "execute_result"
    },
    {
     "data": {
      "image/png": "[encoded data removed]",
      "text/plain": [
       "<Figure size 720x432 with 1 Axes>"
      ]
     },
     "metadata": {
      "needs_background": "light"
     },
     "output_type": "display_data"
    }
   ],
   "source": [
    "# Extract the coefficients\n",
    "lasso_coef = lasso.coef_\n",
    "\n",
    "# Plot the coefficients\n",
    "plt.figure(figsize=(10, 6))\n",
    "plt.plot(range(len(X_train.columns)), lasso_coef)\n",
    "plt.xticks(range(len(X_train.columns)), X_train.columns, rotation=60)\n",
    "plt.axhline(0.0, linestyle='--', color='r')\n",
    "plt.ylabel('Coefficients')\n",
    "plt.title('Lasso coefficients for sleep data features')"
   ]
  },
  {
   "cell_type": "markdown",
   "metadata": {},
   "source": [
    "The Lasso Regression algorithm has reduced the coefficients of Time in Bed and Minutes Light Sleep to close to zero, deeming them less important than the other four features. This comes in handy as we would face major multicollinearity issues if we included all of the features in our models. Multicollinearity itself is not an issue when you only care about predictive power of the model but it makes interpreting the model reliably almost impossible. I would like to buidl Machine Learning models that perform well but are also somewhat interpretable, which is why a reduction in multicollinearity is needed.\n",
    "\n",
    "For further analysis I will only include Minutes Asleep, Minutes Awake, Minutes REM Sleep and Minutes Deep Sleep as features in the models."
   ]
  },
  {
   "cell_type": "code",
   "execution_count": 32,
   "metadata": {},
   "outputs": [],
   "source": [
    "# Create a list of the columns to drop\n",
    "cols_to_drop = ['Time in Bed', 'Minutes Light Sleep']\n",
    "\n",
    "# Drop these columns from training, validation and test data\n",
    "X_train_temp.drop(columns=cols_to_drop, inplace=True)\n",
    "X_train.drop(columns=cols_to_drop, inplace=True)\n",
    "X_valid.drop(columns=cols_to_drop, inplace=True)\n",
    "X_test.drop(columns=cols_to_drop, inplace=True)\n",
    "\n"
   ]
  },
  {
   "cell_type": "markdown",
   "metadata": {},
   "source": [
    "## Defining performance measures"
   ]
  },
  {
   "cell_type": "markdown",
   "metadata": {},
   "source": [
    "The performance measures I want to use to compare the different ML models are Accuracy and Score. Average Error is added to the list as an extra."
   ]
  },
  {
   "cell_type": "code",
   "execution_count": 33,
   "metadata": {},
   "outputs": [],
   "source": [
    "def scoring(model, test_features, test_labels):\n",
    "    predictions = model.predict(test_features)\n",
    "    mae = mean_absolute_error(test_labels, predictions)\n",
    "    mse = mean_squared_error(test_labels, predictions)\n",
    "    r2 = r2_score(test_labels, predictions)\n",
    "    errors = abs(predictions - test_labels)\n",
    "    mape = 100 * np.mean(errors / test_labels)\n",
    "    accuracy = 100 - mape\n",
    "    print('Model Performance')\n",
    "    print('Mean Absolute Error: {:0.4f}.'.format(mae))\n",
    "    print('Mean Squared Error: {:0.4f}.'.format(mse))\n",
    "    print('R^2 Score = {:0.4f}.'.format(r2))\n",
    "    print('Accuracy = {:0.2f}%.'.format(accuracy))"
   ]
  },
  {
   "cell_type": "markdown",
   "metadata": {},
   "source": [
    "Accuracy is typically used as a performance measure in classification problems and not regression problems because it refers to the proportion of correct predictions that the model makes. The ways I use accuracy for the regression models in this analysis is different. Accuracy for the regression models is a measure of how far off (in percentage terms) the prediction in sleep score will be from the actual sleep score, on average. For example, if the actual sleep score is 80 and the model has an accuracy of 96%, meaning that on average it is 4% off, the model is expected to make a prediction for the sleep score in the range of 76.8 (80 - (80 x 0.04)) to 83.2 (80 + (80 x 0.04)). "
   ]
  },
  {
   "cell_type": "markdown",
   "metadata": {},
   "source": [
    "## Establish a Baseline"
   ]
  },
  {
   "cell_type": "markdown",
   "metadata": {},
   "source": [
    "The baseline that I will compare the performance of the Machine Learning models against will be simply predicting the average Sleep Score every night. A good model should be substantially better than just predicting the average every night."
   ]
  },
  {
   "cell_type": "code",
   "execution_count": 34,
   "metadata": {},
   "outputs": [
    {
     "name": "stdout",
     "output_type": "stream",
     "text": [
      "Model Performance\n",
      "Mean Absolute Error: 3.7826.\n",
      "Mean Squared Error: 22.0783.\n",
      "R^2 Score = -0.0018.\n",
      "Accuracy = 95.32%.\n"
     ]
    }
   ],
   "source": [
    "# Create list of median predictions that has the same length as y_valid\n",
    "baseline_y = [y_train.median()] * len(y_valid)\n",
    "\n",
    "# Compute the relevant scores\n",
    "base_predictions = baseline_y\n",
    "base_mae = mean_absolute_error(y_valid, base_predictions)\n",
    "base_mse = mean_squared_error(y_valid, base_predictions)\n",
    "base_r2 = r2_score(y_valid, base_predictions)\n",
    "base_errors = abs(base_predictions - y_valid)\n",
    "base_mape = 100 * np.mean(base_errors / y_valid)\n",
    "base_accuracy = 100 - base_mape\n",
    "print('Model Performance')\n",
    "print('Mean Absolute Error: {:0.4f}.'.format(base_mae))\n",
    "print('Mean Squared Error: {:0.4f}.'.format(base_mse))\n",
    "print('R^2 Score = {:0.4f}.'.format(base_r2))\n",
    "print('Accuracy = {:0.2f}%.'.format(base_accuracy))"
   ]
  },
  {
   "cell_type": "markdown",
   "metadata": {},
   "source": [
    "## Multiple Linear Regression"
   ]
  },
  {
   "cell_type": "markdown",
   "metadata": {},
   "source": [
    "The first model I would like to use is MLR. I used MLR in another project to understand the relationship between the independent variables and the sleep score. This time, I will use it to make predictions about sleep scores and test the accuracy of this linear model."
   ]
  },
  {
   "cell_type": "code",
   "execution_count": 35,
   "metadata": {},
   "outputs": [],
   "source": [
    "# Create regressor\n",
    "regressor = LinearRegression()\n",
    "\n",
    "# Fit MLR model to training data\n",
    "mlr = regressor.fit(X_train, y_train)"
   ]
  },
  {
   "cell_type": "code",
   "execution_count": 36,
   "metadata": {},
   "outputs": [
    {
     "name": "stdout",
     "output_type": "stream",
     "text": [
      "Model Performance\n",
      "Mean Absolute Error: 2.2955.\n",
      "Mean Squared Error: 7.9884.\n",
      "R^2 Score = 0.6375.\n",
      "Accuracy = 97.20%.\n"
     ]
    }
   ],
   "source": [
    "# Evaluate the performance\n",
    "scoring(mlr, X_valid, y_valid)"
   ]
  },
  {
   "cell_type": "code",
   "execution_count": 37,
   "metadata": {},
   "outputs": [
    {
     "data": {
      "text/html": [
       "<table class=\"simpletable\">\n",
       "<caption>OLS Regression Results</caption>\n",
       "<tr>\n",
       "  <th>Dep. Variable:</th>      <td>overall_score</td>  <th>  R-squared:         </th> <td>   0.767</td> \n",
       "</tr>\n",
       "<tr>\n",
       "  <th>Model:</th>                   <td>OLS</td>       <th>  Adj. R-squared:    </th> <td>   0.765</td> \n",
       "</tr>\n",
       "<tr>\n",
       "  <th>Method:</th>             <td>Least Squares</td>  <th>  F-statistic:       </th> <td>   277.8</td> \n",
       "</tr>\n",
       "<tr>\n",
       "  <th>Date:</th>             <td>Mon, 06 Jun 2022</td> <th>  Prob (F-statistic):</th> <td>2.69e-105</td>\n",
       "</tr>\n",
       "<tr>\n",
       "  <th>Time:</th>                 <td>07:28:22</td>     <th>  Log-Likelihood:    </th> <td> -811.83</td> \n",
       "</tr>\n",
       "<tr>\n",
       "  <th>No. Observations:</th>      <td>   342</td>      <th>  AIC:               </th> <td>   1634.</td> \n",
       "</tr>\n",
       "<tr>\n",
       "  <th>Df Residuals:</th>          <td>   337</td>      <th>  BIC:               </th> <td>   1653.</td> \n",
       "</tr>\n",
       "<tr>\n",
       "  <th>Df Model:</th>              <td>     4</td>      <th>                     </th>     <td> </td>    \n",
       "</tr>\n",
       "<tr>\n",
       "  <th>Covariance Type:</th>      <td>nonrobust</td>    <th>                     </th>     <td> </td>    \n",
       "</tr>\n",
       "</table>\n",
       "<table class=\"simpletable\">\n",
       "<tr>\n",
       "           <td></td>             <th>coef</th>     <th>std err</th>      <th>t</th>      <th>P>|t|</th>  <th>[0.025</th>    <th>0.975]</th>  \n",
       "</tr>\n",
       "<tr>\n",
       "  <th>const</th>              <td>   57.6855</td> <td>    1.060</td> <td>   54.423</td> <td> 0.000</td> <td>   55.601</td> <td>   59.770</td>\n",
       "</tr>\n",
       "<tr>\n",
       "  <th>Minutes Asleep</th>     <td>    0.0426</td> <td>    0.003</td> <td>   12.220</td> <td> 0.000</td> <td>    0.036</td> <td>    0.049</td>\n",
       "</tr>\n",
       "<tr>\n",
       "  <th>Minutes Awake</th>      <td>   -0.1238</td> <td>    0.010</td> <td>  -11.999</td> <td> 0.000</td> <td>   -0.144</td> <td>   -0.103</td>\n",
       "</tr>\n",
       "<tr>\n",
       "  <th>Minutes REM Sleep</th>  <td>    0.0907</td> <td>    0.008</td> <td>   11.707</td> <td> 0.000</td> <td>    0.075</td> <td>    0.106</td>\n",
       "</tr>\n",
       "<tr>\n",
       "  <th>Minutes Deep Sleep</th> <td>    0.0388</td> <td>    0.008</td> <td>    5.088</td> <td> 0.000</td> <td>    0.024</td> <td>    0.054</td>\n",
       "</tr>\n",
       "</table>\n",
       "<table class=\"simpletable\">\n",
       "<tr>\n",
       "  <th>Omnibus:</th>       <td> 2.470</td> <th>  Durbin-Watson:     </th> <td>   2.002</td>\n",
       "</tr>\n",
       "<tr>\n",
       "  <th>Prob(Omnibus):</th> <td> 0.291</td> <th>  Jarque-Bera (JB):  </th> <td>   2.541</td>\n",
       "</tr>\n",
       "<tr>\n",
       "  <th>Skew:</th>          <td>-0.200</td> <th>  Prob(JB):          </th> <td>   0.281</td>\n",
       "</tr>\n",
       "<tr>\n",
       "  <th>Kurtosis:</th>      <td> 2.863</td> <th>  Cond. No.          </th> <td>3.74e+03</td>\n",
       "</tr>\n",
       "</table><br/><br/>Notes:<br/>[1] Standard Errors assume that the covariance matrix of the errors is correctly specified.<br/>[2] The condition number is large, 3.74e+03. This might indicate that there are<br/>strong multicollinearity or other numerical problems."
      ],
      "text/plain": [
       "<class 'statsmodels.iolib.summary.Summary'>\n",
       "\"\"\"\n",
       "                            OLS Regression Results                            \n",
       "==============================================================================\n",
       "Dep. Variable:          overall_score   R-squared:                       0.767\n",
       "Model:                            OLS   Adj. R-squared:                  0.765\n",
       "Method:                 Least Squares   F-statistic:                     277.8\n",
       "Date:                Mon, 06 Jun 2022   Prob (F-statistic):          2.69e-105\n",
       "Time:                        07:28:22   Log-Likelihood:                -811.83\n",
       "No. Observations:                 342   AIC:                             1634.\n",
       "Df Residuals:                     337   BIC:                             1653.\n",
       "Df Model:                           4                                         \n",
       "Covariance Type:            nonrobust                                         \n",
       "======================================================================================\n",
       "                         coef    std err          t      P>|t|      [0.025      0.975]\n",
       "--------------------------------------------------------------------------------------\n",
       "const                 57.6855      1.060     54.423      0.000      55.601      59.770\n",
       "Minutes Asleep         0.0426      0.003     12.220      0.000       0.036       0.049\n",
       "Minutes Awake         -0.1238      0.010    -11.999      0.000      -0.144      -0.103\n",
       "Minutes REM Sleep      0.0907      0.008     11.707      0.000       0.075       0.106\n",
       "Minutes Deep Sleep     0.0388      0.008      5.088      0.000       0.024       0.054\n",
       "==============================================================================\n",
       "Omnibus:                        2.470   Durbin-Watson:                   2.002\n",
       "Prob(Omnibus):                  0.291   Jarque-Bera (JB):                2.541\n",
       "Skew:                          -0.200   Prob(JB):                        0.281\n",
       "Kurtosis:                       2.863   Cond. No.                     3.74e+03\n",
       "==============================================================================\n",
       "\n",
       "Notes:\n",
       "[1] Standard Errors assume that the covariance matrix of the errors is correctly specified.\n",
       "[2] The condition number is large, 3.74e+03. This might indicate that there are\n",
       "strong multicollinearity or other numerical problems.\n",
       "\"\"\""
      ]
     },
     "execution_count": 37,
     "metadata": {},
     "output_type": "execute_result"
    }
   ],
   "source": [
    "# Inspect the statsmodel results\n",
    "X_mlr = sm.add_constant(X_train)\n",
    "est = sm.OLS(y_train, X_mlr)\n",
    "est2 = est.fit()\n",
    "est2.summary()"
   ]
  },
  {
   "cell_type": "markdown",
   "metadata": {},
   "source": [
    "The coefficients in our model are close to those of the MLR using the entire dataset. Looking at the feature importances in combination with the sign of the coefficients provides an important insight (ignoring multicollinearity!). Minutes Awake seem to have the biggest impact on sleep score and because that variable has a negative coefficient, it's impact is a sleep score reducing one. Disregarding multicollinearity, these feature importances indicate that it takes more than two minutes of REM sleep to make up for one minute of being awake. Furthermore, REM sleep appears to be almost twice as important as deep sleep when it comes to their impact on sleep score."
   ]
  },
  {
   "cell_type": "markdown",
   "metadata": {},
   "source": [
    "## Random Forest"
   ]
  },
  {
   "cell_type": "code",
   "execution_count": 38,
   "metadata": {},
   "outputs": [],
   "source": [
    "# Create regressor\n",
    "rf_regressor = RandomForestRegressor(random_state=42)\n",
    "\n",
    "# Fit RF model to training data\n",
    "rf = rf_regressor.fit(X_train, y_train)"
   ]
  },
  {
   "cell_type": "code",
   "execution_count": 39,
   "metadata": {},
   "outputs": [
    {
     "name": "stdout",
     "output_type": "stream",
     "text": [
      "Model Performance\n",
      "Mean Absolute Error: 1.3712.\n",
      "Mean Squared Error: 3.4979.\n",
      "R^2 Score = 0.8413.\n",
      "Accuracy = 98.32%.\n"
     ]
    }
   ],
   "source": [
    "# Evaluate the performance\n",
    "scoring(rf, X_valid, y_valid)"
   ]
  },
  {
   "cell_type": "code",
   "execution_count": 40,
   "metadata": {},
   "outputs": [
    {
     "data": {
      "text/plain": [
       "[<matplotlib.lines.Line2D at 0x249ada7fbc8>]"
      ]
     },
     "execution_count": 40,
     "metadata": {},
     "output_type": "execute_result"
    },
    {
     "data": {
      "image/png": "[encoded data removed]",
      "text/plain": [
       "<Figure size 432x288 with 1 Axes>"
      ]
     },
     "metadata": {
      "needs_background": "light"
     },
     "output_type": "display_data"
    }
   ],
   "source": [
    "# Make predictions\n",
    "y_pred = rf.predict(X_valid)\n",
    "\n",
    "x = np.linspace(65, 90, 25)\n",
    "y = x\n",
    "\n",
    "plt.scatter(y_pred, y_valid)\n",
    "plt.plot(x, y)"
   ]
  },
  {
   "cell_type": "code",
   "execution_count": 41,
   "metadata": {},
   "outputs": [
    {
     "data": {
      "text/html": [
       "<div>\n",
       "<style scoped>\n",
       "    .dataframe tbody tr th:only-of-type {\n",
       "        vertical-align: middle;\n",
       "    }\n",
       "\n",
       "    .dataframe tbody tr th {\n",
       "        vertical-align: top;\n",
       "    }\n",
       "\n",
       "    .dataframe thead th {\n",
       "        text-align: right;\n",
       "    }\n",
       "</style>\n",
       "<table border=\"1\" class=\"dataframe\">\n",
       "  <thead>\n",
       "    <tr style=\"text-align: right;\">\n",
       "      <th></th>\n",
       "      <th>Feature Importance</th>\n",
       "    </tr>\n",
       "  </thead>\n",
       "  <tbody>\n",
       "    <tr>\n",
       "      <th>Minutes Asleep</th>\n",
       "      <td>0.486584</td>\n",
       "    </tr>\n",
       "    <tr>\n",
       "      <th>Minutes Awake</th>\n",
       "      <td>0.084792</td>\n",
       "    </tr>\n",
       "    <tr>\n",
       "      <th>Minutes REM Sleep</th>\n",
       "      <td>0.366589</td>\n",
       "    </tr>\n",
       "    <tr>\n",
       "      <th>Minutes Deep Sleep</th>\n",
       "      <td>0.062035</td>\n",
       "    </tr>\n",
       "  </tbody>\n",
       "</table>\n",
       "</div>"
      ],
      "text/plain": [
       "                    Feature Importance\n",
       "Minutes Asleep                0.486584\n",
       "Minutes Awake                 0.084792\n",
       "Minutes REM Sleep             0.366589\n",
       "Minutes Deep Sleep            0.062035"
      ]
     },
     "execution_count": 41,
     "metadata": {},
     "output_type": "execute_result"
    }
   ],
   "source": [
    "# Create a DataFrame of the feature importances \n",
    "rf_feats = pd.DataFrame(rf.feature_importances_, index=X_train.columns, columns=['Feature Importance'])\n",
    "rf_feats"
   ]
  },
  {
   "cell_type": "markdown",
   "metadata": {},
   "source": [
    "## Extreme Gradient Boosting "
   ]
  },
  {
   "cell_type": "code",
   "execution_count": 42,
   "metadata": {},
   "outputs": [],
   "source": [
    "# Create regressor\n",
    "xgb_regressor = XGBRegressor(random_state=42)\n",
    "\n",
    "# Fit model to training data\n",
    "xgb = xgb_regressor.fit(X_train, y_train)"
   ]
  },
  {
   "cell_type": "code",
   "execution_count": 43,
   "metadata": {},
   "outputs": [
    {
     "name": "stdout",
     "output_type": "stream",
     "text": [
      "Model Performance\n",
      "Mean Absolute Error: 0.8483.\n",
      "Mean Squared Error: 2.3663.\n",
      "R^2 Score = 0.8926.\n",
      "Accuracy = 98.97%.\n"
     ]
    }
   ],
   "source": [
    "# Evaluate the performance\n",
    "scoring(xgb, X_valid, y_valid)"
   ]
  },
  {
   "cell_type": "code",
   "execution_count": 44,
   "metadata": {},
   "outputs": [
    {
     "data": {
      "text/html": [
       "<div>\n",
       "<style scoped>\n",
       "    .dataframe tbody tr th:only-of-type {\n",
       "        vertical-align: middle;\n",
       "    }\n",
       "\n",
       "    .dataframe tbody tr th {\n",
       "        vertical-align: top;\n",
       "    }\n",
       "\n",
       "    .dataframe thead th {\n",
       "        text-align: right;\n",
       "    }\n",
       "</style>\n",
       "<table border=\"1\" class=\"dataframe\">\n",
       "  <thead>\n",
       "    <tr style=\"text-align: right;\">\n",
       "      <th></th>\n",
       "      <th>Feature Importance</th>\n",
       "    </tr>\n",
       "  </thead>\n",
       "  <tbody>\n",
       "    <tr>\n",
       "      <th>Minutes Asleep</th>\n",
       "      <td>0.277031</td>\n",
       "    </tr>\n",
       "    <tr>\n",
       "      <th>Minutes Awake</th>\n",
       "      <td>0.107531</td>\n",
       "    </tr>\n",
       "    <tr>\n",
       "      <th>Minutes REM Sleep</th>\n",
       "      <td>0.522831</td>\n",
       "    </tr>\n",
       "    <tr>\n",
       "      <th>Minutes Deep Sleep</th>\n",
       "      <td>0.092607</td>\n",
       "    </tr>\n",
       "  </tbody>\n",
       "</table>\n",
       "</div>"
      ],
      "text/plain": [
       "                    Feature Importance\n",
       "Minutes Asleep                0.277031\n",
       "Minutes Awake                 0.107531\n",
       "Minutes REM Sleep             0.522831\n",
       "Minutes Deep Sleep            0.092607"
      ]
     },
     "execution_count": 44,
     "metadata": {},
     "output_type": "execute_result"
    }
   ],
   "source": [
    "# Create a DataFrame to inspect the feature importances again\n",
    "xgb_feats = pd.DataFrame(xgb.feature_importances_, index=X_train.columns, columns=['Feature Importance'])\n",
    "xgb_feats"
   ]
  },
  {
   "cell_type": "markdown",
   "metadata": {},
   "source": [
    "Interestingly, Minutes REM Sleep is by far the most important feature again and, similar to the Random Forest, Time in Bed is the second most important."
   ]
  },
  {
   "cell_type": "markdown",
   "metadata": {},
   "source": [
    "## Introducing Cross-Validation"
   ]
  },
  {
   "cell_type": "markdown",
   "metadata": {},
   "source": [
    "Cross Validation is similar to that of splitting the data into training and testing data and can be thought of as a repeated train test split with subsequent testing of the model accuracy. In a train test split you train the model on one subset of the data and test it on the remaining data but you do that only once. In Cross Validation you perform multiple train test splits and for each split the test and training data are different. Basically, you split the data into a number of subsets, called folds, hold out one set at a time, train the model on the remaining data and test it on the hold out set. You repeat these steps until you have used every subset as the test set, i.e. by definition the number of times you perform these steps is equal to the number of folds you split the dataset into."
   ]
  },
  {
   "cell_type": "code",
   "execution_count": 45,
   "metadata": {},
   "outputs": [],
   "source": [
    "# Create the models to be tested\n",
    "mlr_reg = LinearRegression()\n",
    "rf_reg = RandomForestRegressor(random_state=42)\n",
    "xgb_reg = xgb_regressor = XGBRegressor(random_state=42)"
   ]
  },
  {
   "cell_type": "code",
   "execution_count": 46,
   "metadata": {},
   "outputs": [],
   "source": [
    "# Put the models in a list to be used for cross validation\n",
    "models = [mlr_reg, rf_reg, xgb_reg]"
   ]
  },
  {
   "cell_type": "code",
   "execution_count": 47,
   "metadata": {},
   "outputs": [],
   "source": [
    "# Define a function that compares the CV perfromance of a set of predetrmined models \n",
    "def cv_comparison(models, X, y, cv):\n",
    "    # Initiate a DataFrame for the averages and a list for all measures\n",
    "    cv_accuracies = pd.DataFrame()\n",
    "    maes = []\n",
    "    mses = []\n",
    "    r2s = []\n",
    "    accs = []\n",
    "    # Loop through the models, run a CV, add the average scores to the DataFrame and the scores of all CVs to the list\n",
    "    for model in models:\n",
    "        mae = -np.round(cross_val_score(model, X, y, scoring='neg_mean_absolute_error', cv=cv), 4)\n",
    "        maes.append(mae)\n",
    "        mae_avg = round(mae.mean(), 4)\n",
    "        mse = -np.round(cross_val_score(model, X, y, scoring='neg_mean_squared_error', cv=cv), 4)\n",
    "        mses.append(mse)\n",
    "        mse_avg = round(mse.mean(), 4)\n",
    "        r2 = np.round(cross_val_score(model, X, y, scoring='r2', cv=cv), 4)\n",
    "        r2s.append(r2)\n",
    "        r2_avg = round(r2.mean(), 4)\n",
    "        acc = np.round((100 - (100 * (mae * len(X))) / sum(y)), 4)\n",
    "        accs.append(acc)\n",
    "        acc_avg = round(acc.mean(), 4)\n",
    "        cv_accuracies[str(model)] = [mae_avg, mse_avg, r2_avg, acc_avg]\n",
    "    cv_accuracies.index = ['Mean Absolute Error', 'Mean Squared Error', 'R^2', 'Accuracy']\n",
    "    return cv_accuracies, maes, mses, r2s, accs"
   ]
  },
  {
   "cell_type": "code",
   "execution_count": 48,
   "metadata": {},
   "outputs": [],
   "source": [
    "# Run the Cross-Validation comparison with the models used in this analysis\n",
    "comp, maes, mses, r2s, accs = cv_comparison(models, X_train_temp, y_train_temp, 4)"
   ]
  },
  {
   "cell_type": "code",
   "execution_count": 49,
   "metadata": {},
   "outputs": [
    {
     "data": {
      "text/html": [
       "<div>\n",
       "<style scoped>\n",
       "    .dataframe tbody tr th:only-of-type {\n",
       "        vertical-align: middle;\n",
       "    }\n",
       "\n",
       "    .dataframe tbody tr th {\n",
       "        vertical-align: top;\n",
       "    }\n",
       "\n",
       "    .dataframe thead th {\n",
       "        text-align: right;\n",
       "    }\n",
       "</style>\n",
       "<table border=\"1\" class=\"dataframe\">\n",
       "  <thead>\n",
       "    <tr style=\"text-align: right;\">\n",
       "      <th></th>\n",
       "      <th>Multiple Linear Regression</th>\n",
       "      <th>Random Forest</th>\n",
       "      <th>Extreme Gradient Boosting</th>\n",
       "    </tr>\n",
       "  </thead>\n",
       "  <tbody>\n",
       "    <tr>\n",
       "      <th>Mean Absolute Error</th>\n",
       "      <td>2.1552</td>\n",
       "      <td>1.3412</td>\n",
       "      <td>0.9555</td>\n",
       "    </tr>\n",
       "    <tr>\n",
       "      <th>Mean Squared Error</th>\n",
       "      <td>7.3317</td>\n",
       "      <td>3.7917</td>\n",
       "      <td>3.7025</td>\n",
       "    </tr>\n",
       "    <tr>\n",
       "      <th>R^2</th>\n",
       "      <td>0.7279</td>\n",
       "      <td>0.8607</td>\n",
       "      <td>0.8634</td>\n",
       "    </tr>\n",
       "    <tr>\n",
       "      <th>Accuracy</th>\n",
       "      <td>97.3599</td>\n",
       "      <td>98.3571</td>\n",
       "      <td>98.8295</td>\n",
       "    </tr>\n",
       "  </tbody>\n",
       "</table>\n",
       "</div>"
      ],
      "text/plain": [
       "                     Multiple Linear Regression  Random Forest  \\\n",
       "Mean Absolute Error                      2.1552         1.3412   \n",
       "Mean Squared Error                       7.3317         3.7917   \n",
       "R^2                                      0.7279         0.8607   \n",
       "Accuracy                                97.3599        98.3571   \n",
       "\n",
       "                     Extreme Gradient Boosting  \n",
       "Mean Absolute Error                     0.9555  \n",
       "Mean Squared Error                      3.7025  \n",
       "R^2                                     0.8634  \n",
       "Accuracy                               98.8295  "
      ]
     },
     "execution_count": 49,
     "metadata": {},
     "output_type": "execute_result"
    }
   ],
   "source": [
    "# Change the columns of the compariosn table and return it\n",
    "comp.columns = ['Multiple Linear Regression', 'Random Forest', 'Extreme Gradient Boosting']\n",
    "comp"
   ]
  },
  {
   "cell_type": "markdown",
   "metadata": {},
   "source": [
    "Interestingly, compared to the results achieved with one simple train test split, MLR has the highest R^2 and Random Forest ha sthe lowest. Let's have a closer look at the R^2 of every fold of the cross-validation."
   ]
  },
  {
   "cell_type": "code",
   "execution_count": 50,
   "metadata": {},
   "outputs": [
    {
     "data": {
      "text/html": [
       "<div>\n",
       "<style scoped>\n",
       "    .dataframe tbody tr th:only-of-type {\n",
       "        vertical-align: middle;\n",
       "    }\n",
       "\n",
       "    .dataframe tbody tr th {\n",
       "        vertical-align: top;\n",
       "    }\n",
       "\n",
       "    .dataframe thead th {\n",
       "        text-align: right;\n",
       "    }\n",
       "</style>\n",
       "<table border=\"1\" class=\"dataframe\">\n",
       "  <thead>\n",
       "    <tr style=\"text-align: right;\">\n",
       "      <th></th>\n",
       "      <th>1st Fold</th>\n",
       "      <th>2nd Fold</th>\n",
       "      <th>3rd Fold</th>\n",
       "      <th>4th Fold</th>\n",
       "      <th>Average</th>\n",
       "    </tr>\n",
       "  </thead>\n",
       "  <tbody>\n",
       "    <tr>\n",
       "      <th>Multiple Linear Regression</th>\n",
       "      <td>0.7564</td>\n",
       "      <td>0.6400</td>\n",
       "      <td>0.7534</td>\n",
       "      <td>0.7619</td>\n",
       "      <td>0.7279</td>\n",
       "    </tr>\n",
       "    <tr>\n",
       "      <th>Random Forest</th>\n",
       "      <td>0.8302</td>\n",
       "      <td>0.8636</td>\n",
       "      <td>0.9028</td>\n",
       "      <td>0.8463</td>\n",
       "      <td>0.8607</td>\n",
       "    </tr>\n",
       "    <tr>\n",
       "      <th>Extreme Gradient Boosting</th>\n",
       "      <td>0.8630</td>\n",
       "      <td>0.8437</td>\n",
       "      <td>0.9234</td>\n",
       "      <td>0.8234</td>\n",
       "      <td>0.8634</td>\n",
       "    </tr>\n",
       "  </tbody>\n",
       "</table>\n",
       "</div>"
      ],
      "text/plain": [
       "                            1st Fold  2nd Fold  3rd Fold  4th Fold  Average\n",
       "Multiple Linear Regression    0.7564    0.6400    0.7534    0.7619   0.7279\n",
       "Random Forest                 0.8302    0.8636    0.9028    0.8463   0.8607\n",
       "Extreme Gradient Boosting     0.8630    0.8437    0.9234    0.8234   0.8634"
      ]
     },
     "execution_count": 50,
     "metadata": {},
     "output_type": "execute_result"
    }
   ],
   "source": [
    "# Create DataFrame for all R^2s\n",
    "r2_comp = pd.DataFrame(r2s, index=comp.columns, columns=['1st Fold', '2nd Fold', '3rd Fold', '4th Fold'])\n",
    "\n",
    "# Add a column for the averages\n",
    "r2_comp['Average'] = np.round(r2_comp.mean(axis=1),4)\n",
    "r2_comp"
   ]
  },
  {
   "cell_type": "markdown",
   "metadata": {},
   "source": [
    "As the above table shows, R^2s fluctuate a lot depending on which subset is used as the holdout set, i.e. the validation set and which ones are used as the training sets. "
   ]
  },
  {
   "cell_type": "markdown",
   "metadata": {},
   "source": [
    "## Hyperparameter Optimization using Grid Search"
   ]
  },
  {
   "cell_type": "markdown",
   "metadata": {},
   "source": [
    "Most Machine Learning models have hyperparameters, which can be tweaked to reach more optimal performace of the model. Scikit-Learn provides sensible defaults for these hyperparameters but there is no one-size-fits-all. Figuring out good hyperparameters in theory is nearly impossible which is why the best and fastest way to optimise hyperparameters is through experiments.\n",
    "\n",
    "Hyperparameter tuning builds on the concept of cross-validation in order to account for overfitting. Just like for model evaluation itself, if we tried to optimise the hyperparameters used in a model solely on one pair of training and validation data we may tune the hyperparameters in a way that fits the model extremely well to the one validation set but the model may perform poorly when applied beyond the validation set. Cross-validation takes car eof this problem.\n",
    "\n",
    "More specifically, the type of hyperparameter tuning that I will use is called \"Random Search Cross Validation\". Essentially, how this works is we first define a range of values for the hyperparamaters that we would like to tune. We then combine all the ranges for the hyperparameters we want to tune in a grid. The Random Search Cross Validation then picks random values from that grid, uses them as the values for the hyperparameters, runs a cross validation using the model with the randomly selected hyperparameters and evaluate sthe resulting score. We can specify how many random cross validations we want to include, keeping in mind that more random cross validations increase the likelihood of finding optimal hyperparameters but are also take more time and computational power. \n",
    "\n",
    "Because the Multiple Linear regression model technically does not have hyperparameters that we can optimise, I will focus on the hyperparameters of the Random Forest and the Extreme Gradient Boosting models."
   ]
  },
  {
   "cell_type": "markdown",
   "metadata": {},
   "source": [
    "## Hyperparameter Optimisation for Random Forest"
   ]
  },
  {
   "cell_type": "markdown",
   "metadata": {},
   "source": [
    "\n",
    "Adjusting n_estimators, max_features, max_depth, criterion, min_samples_split, bootstrap, min_impurity_decrease."
   ]
  },
  {
   "cell_type": "code",
   "execution_count": 51,
   "metadata": {},
   "outputs": [],
   "source": [
    "# Number of trees in Random Forest\n",
    "rf_n_estimators = [int(x) for x in np.linspace(200, 1000, 5)]\n",
    "rf_n_estimators.append(1500)\n",
    "rf_n_estimators.append(2000)\n",
    "\n",
    "# Maximum number of levels in tree\n",
    "rf_max_depth = [int(x) for x in np.linspace(5, 55, 11)]\n",
    "# Add the default as a possible value\n",
    "rf_max_depth.append(None)\n",
    "\n",
    "# Number of features to consider at every split\n",
    "rf_max_features = ['auto', 'sqrt', 'log2']\n",
    "\n",
    "# Criterion to split on\n",
    "rf_criterion = ['mse', 'mae']\n",
    "\n",
    "# Minimum number of samples required to split a node\n",
    "rf_min_samples_split = [int(x) for x in np.linspace(2, 10, 9)]\n",
    "\n",
    "# Minimum decrease in impurity required for split to happen\n",
    "rf_min_impurity_decrease = [0.0, 0.05, 0.1]\n",
    "\n",
    "# Method of selecting samples for training each tree\n",
    "rf_bootstrap = [True, False]"
   ]
  },
  {
   "cell_type": "code",
   "execution_count": 52,
   "metadata": {},
   "outputs": [
    {
     "data": {
      "text/plain": [
       "{'n_estimators': [200, 400, 600, 800, 1000, 1500, 2000],\n",
       " 'max_depth': [5, 10, 15, 20, 25, 30, 35, 40, 45, 50, 55, None],\n",
       " 'max_features': ['auto', 'sqrt', 'log2'],\n",
       " 'criterion': ['mse', 'mae'],\n",
       " 'min_samples_split': [2, 3, 4, 5, 6, 7, 8, 9, 10],\n",
       " 'min_impurity_decrease': [0.0, 0.05, 0.1],\n",
       " 'bootstrap': [True, False]}"
      ]
     },
     "execution_count": 52,
     "metadata": {},
     "output_type": "execute_result"
    }
   ],
   "source": [
    "# Create the grid\n",
    "rf_grid = {'n_estimators': rf_n_estimators,\n",
    "               'max_depth': rf_max_depth,\n",
    "               'max_features': rf_max_features,\n",
    "               'criterion': rf_criterion,\n",
    "               'min_samples_split': rf_min_samples_split,\n",
    "               'min_impurity_decrease': rf_min_impurity_decrease,\n",
    "               'bootstrap': rf_bootstrap}\n",
    "\n",
    "rf_grid"
   ]
  },
  {
   "cell_type": "markdown",
   "metadata": {},
   "source": [
    "I will search across 200 different combinations, meaning that a total of 600 models will be evaluated (3 folds for 200 combinations)."
   ]
  },
  {
   "cell_type": "code",
   "execution_count": 53,
   "metadata": {},
   "outputs": [
    {
     "name": "stdout",
     "output_type": "stream",
     "text": [
      "Fitting 3 folds for each of 200 candidates, totalling 600 fits\n"
     ]
    },
    {
     "name": "stderr",
     "output_type": "stream",
     "text": [
      "C:\\Users\\vijayalakshmi\\anaconda3\\lib\\site-packages\\sklearn\\ensemble\\_forest.py:400: FutureWarning: Criterion 'mse' was deprecated in v1.0 and will be removed in version 1.2. Use `criterion='squared_error'` which is equivalent.\n",
      "  FutureWarning,\n"
     ]
    },
    {
     "data": {
      "text/plain": [
       "RandomizedSearchCV(cv=3, estimator=RandomForestRegressor(), n_iter=200,\n",
       "                   n_jobs=-1,\n",
       "                   param_distributions={'bootstrap': [True, False],\n",
       "                                        'criterion': ['mse', 'mae'],\n",
       "                                        'max_depth': [5, 10, 15, 20, 25, 30, 35,\n",
       "                                                      40, 45, 50, 55, None],\n",
       "                                        'max_features': ['auto', 'sqrt',\n",
       "                                                         'log2'],\n",
       "                                        'min_impurity_decrease': [0.0, 0.05,\n",
       "                                                                  0.1],\n",
       "                                        'min_samples_split': [2, 3, 4, 5, 6, 7,\n",
       "                                                              8, 9, 10],\n",
       "                                        'n_estimators': [200, 400, 600, 800,\n",
       "                                                         1000, 1500, 2000]},\n",
       "                   random_state=42, verbose=2)"
      ]
     },
     "execution_count": 53,
     "metadata": {},
     "output_type": "execute_result"
    }
   ],
   "source": [
    "# Create the model to be tuned\n",
    "rf_base = RandomForestRegressor()\n",
    "\n",
    "# Create the random search Random Forest\n",
    "rf_random = RandomizedSearchCV(estimator = rf_base, param_distributions = rf_grid, \n",
    "                               n_iter = 200, cv = 3,verbose = 2, random_state = 42, \n",
    "                               n_jobs = -1)\n",
    "\n",
    "# Fit the random search model\n",
    "rf_random.fit(X_train_temp, y_train_temp)"
   ]
  },
  {
   "cell_type": "code",
   "execution_count": 54,
   "metadata": {},
   "outputs": [
    {
     "data": {
      "text/plain": [
       "{'n_estimators': 800,\n",
       " 'min_samples_split': 4,\n",
       " 'min_impurity_decrease': 0.0,\n",
       " 'max_features': 'sqrt',\n",
       " 'max_depth': 15,\n",
       " 'criterion': 'mse',\n",
       " 'bootstrap': False}"
      ]
     },
     "execution_count": 54,
     "metadata": {},
     "output_type": "execute_result"
    }
   ],
   "source": [
    "# View the best parameters from the random search\n",
    "rf_random.best_params_"
   ]
  },
  {
   "cell_type": "code",
   "execution_count": 55,
   "metadata": {},
   "outputs": [
    {
     "data": {
      "text/plain": [
       "0.839436308335566"
      ]
     },
     "execution_count": 55,
     "metadata": {},
     "output_type": "execute_result"
    }
   ],
   "source": [
    "rf_random.best_score_"
   ]
  },
  {
   "cell_type": "markdown",
   "metadata": {},
   "source": [
    "In the final model, which we train on the entire training set and test on the up until this point completely unseen test data, we will use the above hyperparameters."
   ]
  },
  {
   "cell_type": "markdown",
   "metadata": {},
   "source": [
    "## Hyperparameter Optimisation for Extreme Gradient Boosting"
   ]
  },
  {
   "cell_type": "markdown",
   "metadata": {},
   "source": [
    "For the Extreme Gradient Booster I will try to change the following hyperparameters: n_estimators, max_depth, min_child_weight, tree_method, eta, objective, n_thread, seed, gamma"
   ]
  },
  {
   "cell_type": "code",
   "execution_count": 56,
   "metadata": {},
   "outputs": [],
   "source": [
    "# Number of trees to be used\n",
    "xgb_n_estimators = [int(x) for x in np.linspace(200, 2000, 10)]\n",
    "\n",
    "# Maximum number of levels in tree\n",
    "xgb_max_depth = [int(x) for x in np.linspace(2, 20, 10)]\n",
    "\n",
    "# Minimum number of instaces needed in each node\n",
    "xgb_min_child_weight = [int(x) for x in np.linspace(1, 10, 10)]\n",
    "\n",
    "# Tree construction algorithm used in XGBoost\n",
    "xgb_tree_method = ['auto', 'exact', 'approx', 'hist', 'gpu_hist']\n",
    "\n",
    "# Learning rate\n",
    "xgb_eta = [x for x in np.linspace(0.1, 0.6, 6)]\n",
    "\n",
    "# Minimum loss reduction required to make further partition\n",
    "xgb_gamma = [int(x) for x in np.linspace(0, 0.5, 6)]\n",
    "\n",
    "# Learning objective used\n",
    "xgb_objective = ['reg:squarederror', 'reg:squaredlogerror']"
   ]
  },
  {
   "cell_type": "code",
   "execution_count": 57,
   "metadata": {},
   "outputs": [
    {
     "data": {
      "text/plain": [
       "{'n_estimators': [200, 400, 600, 800, 1000, 1200, 1400, 1600, 1800, 2000],\n",
       " 'max_depth': [2, 4, 6, 8, 10, 12, 14, 16, 18, 20],\n",
       " 'min_child_weight': [1, 2, 3, 4, 5, 6, 7, 8, 9, 10],\n",
       " 'tree_method': ['auto', 'exact', 'approx', 'hist', 'gpu_hist'],\n",
       " 'eta': [0.1, 0.2, 0.30000000000000004, 0.4, 0.5, 0.6],\n",
       " 'gamma': [0, 0, 0, 0, 0, 0],\n",
       " 'objective': ['reg:squarederror', 'reg:squaredlogerror']}"
      ]
     },
     "execution_count": 57,
     "metadata": {},
     "output_type": "execute_result"
    }
   ],
   "source": [
    "# Create the grid\n",
    "xgb_grid = {'n_estimators': xgb_n_estimators,\n",
    "            'max_depth': xgb_max_depth,\n",
    "            'min_child_weight': xgb_min_child_weight,\n",
    "            'tree_method': xgb_tree_method,\n",
    "            'eta': xgb_eta,\n",
    "            'gamma': xgb_gamma,\n",
    "            'objective': xgb_objective}\n",
    "\n",
    "xgb_grid"
   ]
  },
  {
   "cell_type": "markdown",
   "metadata": {},
   "source": [
    "One of the strengths of Extreme Gradient Boosting is execution speed, it tends to be much faster than Random forest models, which is why the random grid search is completed a lot quicker for XGB."
   ]
  },
  {
   "cell_type": "code",
   "execution_count": 58,
   "metadata": {},
   "outputs": [
    {
     "name": "stdout",
     "output_type": "stream",
     "text": [
      "Fitting 3 folds for each of 200 candidates, totalling 600 fits\n"
     ]
    },
    {
     "name": "stderr",
     "output_type": "stream",
     "text": [
      "C:\\Users\\vijayalakshmi\\anaconda3\\lib\\site-packages\\sklearn\\model_selection\\_validation.py:372: FitFailedWarning: \n",
      "138 fits failed out of a total of 600.\n",
      "The score on these train-test partitions for these parameters will be set to nan.\n",
      "If these failures are not expected, you can try to debug them by setting error_score='raise'.\n",
      "\n",
      "Below are more details about the failures:\n",
      "--------------------------------------------------------------------------------\n",
      "1 fits failed with the following error:\n",
      "Traceback (most recent call last):\n",
      "  File \"C:\\Users\\vijayalakshmi\\anaconda3\\lib\\site-packages\\sklearn\\model_selection\\_validation.py\", line 680, in _fit_and_score\n",
      "    estimator.fit(X_train, y_train, **fit_params)\n",
      "  File \"C:\\Users\\vijayalakshmi\\anaconda3\\lib\\site-packages\\xgboost\\core.py\", line 532, in inner_f\n",
      "    return f(**kwargs)\n",
      "  File \"C:\\Users\\vijayalakshmi\\anaconda3\\lib\\site-packages\\xgboost\\sklearn.py\", line 972, in fit\n",
      "    callbacks=callbacks,\n",
      "  File \"C:\\Users\\vijayalakshmi\\anaconda3\\lib\\site-packages\\xgboost\\core.py\", line 532, in inner_f\n",
      "    return f(**kwargs)\n",
      "  File \"C:\\Users\\vijayalakshmi\\anaconda3\\lib\\site-packages\\xgboost\\training.py\", line 181, in train\n",
      "    bst.update(dtrain, i, obj)\n",
      "  File \"C:\\Users\\vijayalakshmi\\anaconda3\\lib\\site-packages\\xgboost\\core.py\", line 1735, in update\n",
      "    dtrain.handle))\n",
      "  File \"C:\\Users\\vijayalakshmi\\anaconda3\\lib\\site-packages\\xgboost\\core.py\", line 203, in _check_call\n",
      "    raise XGBoostError(py_str(_LIB.XGBGetLastError()))\n",
      "xgboost.core.XGBoostError: [21:34:00] C:/Users/Administrator/workspace/xgboost-win64_release_1.6.0/src/gbm/gbtree.cc:597: Check failed: common::AllVisibleGPUs() >= 1 (0 vs. 1) : No visible GPU is found for XGBoost.\n",
      "\n",
      "--------------------------------------------------------------------------------\n",
      "14 fits failed with the following error:\n",
      "Traceback (most recent call last):\n",
      "  File \"C:\\Users\\vijayalakshmi\\anaconda3\\lib\\site-packages\\sklearn\\model_selection\\_validation.py\", line 680, in _fit_and_score\n",
      "    estimator.fit(X_train, y_train, **fit_params)\n",
      "  File \"C:\\Users\\vijayalakshmi\\anaconda3\\lib\\site-packages\\xgboost\\core.py\", line 532, in inner_f\n",
      "    return f(**kwargs)\n",
      "  File \"C:\\Users\\vijayalakshmi\\anaconda3\\lib\\site-packages\\xgboost\\sklearn.py\", line 972, in fit\n",
      "    callbacks=callbacks,\n",
      "  File \"C:\\Users\\vijayalakshmi\\anaconda3\\lib\\site-packages\\xgboost\\core.py\", line 532, in inner_f\n",
      "    return f(**kwargs)\n",
      "  File \"C:\\Users\\vijayalakshmi\\anaconda3\\lib\\site-packages\\xgboost\\training.py\", line 181, in train\n",
      "    bst.update(dtrain, i, obj)\n",
      "  File \"C:\\Users\\vijayalakshmi\\anaconda3\\lib\\site-packages\\xgboost\\core.py\", line 1735, in update\n",
      "    dtrain.handle))\n",
      "  File \"C:\\Users\\vijayalakshmi\\anaconda3\\lib\\site-packages\\xgboost\\core.py\", line 203, in _check_call\n",
      "    raise XGBoostError(py_str(_LIB.XGBGetLastError()))\n",
      "xgboost.core.XGBoostError: [21:34:01] C:/Users/Administrator/workspace/xgboost-win64_release_1.6.0/src/gbm/gbtree.cc:597: Check failed: common::AllVisibleGPUs() >= 1 (0 vs. 1) : No visible GPU is found for XGBoost.\n",
      "\n",
      "--------------------------------------------------------------------------------\n",
      "3 fits failed with the following error:\n",
      "Traceback (most recent call last):\n",
      "  File \"C:\\Users\\vijayalakshmi\\anaconda3\\lib\\site-packages\\sklearn\\model_selection\\_validation.py\", line 680, in _fit_and_score\n",
      "    estimator.fit(X_train, y_train, **fit_params)\n",
      "  File \"C:\\Users\\vijayalakshmi\\anaconda3\\lib\\site-packages\\xgboost\\core.py\", line 532, in inner_f\n",
      "    return f(**kwargs)\n",
      "  File \"C:\\Users\\vijayalakshmi\\anaconda3\\lib\\site-packages\\xgboost\\sklearn.py\", line 972, in fit\n",
      "    callbacks=callbacks,\n",
      "  File \"C:\\Users\\vijayalakshmi\\anaconda3\\lib\\site-packages\\xgboost\\core.py\", line 532, in inner_f\n",
      "    return f(**kwargs)\n",
      "  File \"C:\\Users\\vijayalakshmi\\anaconda3\\lib\\site-packages\\xgboost\\training.py\", line 181, in train\n",
      "    bst.update(dtrain, i, obj)\n",
      "  File \"C:\\Users\\vijayalakshmi\\anaconda3\\lib\\site-packages\\xgboost\\core.py\", line 1735, in update\n",
      "    dtrain.handle))\n",
      "  File \"C:\\Users\\vijayalakshmi\\anaconda3\\lib\\site-packages\\xgboost\\core.py\", line 203, in _check_call\n",
      "    raise XGBoostError(py_str(_LIB.XGBGetLastError()))\n",
      "xgboost.core.XGBoostError: [21:34:21] C:/Users/Administrator/workspace/xgboost-win64_release_1.6.0/src/gbm/gbtree.cc:597: Check failed: common::AllVisibleGPUs() >= 1 (0 vs. 1) : No visible GPU is found for XGBoost.\n",
      "\n",
      "--------------------------------------------------------------------------------\n",
      "9 fits failed with the following error:\n",
      "Traceback (most recent call last):\n",
      "  File \"C:\\Users\\vijayalakshmi\\anaconda3\\lib\\site-packages\\sklearn\\model_selection\\_validation.py\", line 680, in _fit_and_score\n",
      "    estimator.fit(X_train, y_train, **fit_params)\n",
      "  File \"C:\\Users\\vijayalakshmi\\anaconda3\\lib\\site-packages\\xgboost\\core.py\", line 532, in inner_f\n",
      "    return f(**kwargs)\n",
      "  File \"C:\\Users\\vijayalakshmi\\anaconda3\\lib\\site-packages\\xgboost\\sklearn.py\", line 972, in fit\n",
      "    callbacks=callbacks,\n",
      "  File \"C:\\Users\\vijayalakshmi\\anaconda3\\lib\\site-packages\\xgboost\\core.py\", line 532, in inner_f\n",
      "    return f(**kwargs)\n",
      "  File \"C:\\Users\\vijayalakshmi\\anaconda3\\lib\\site-packages\\xgboost\\training.py\", line 181, in train\n",
      "    bst.update(dtrain, i, obj)\n",
      "  File \"C:\\Users\\vijayalakshmi\\anaconda3\\lib\\site-packages\\xgboost\\core.py\", line 1735, in update\n",
      "    dtrain.handle))\n",
      "  File \"C:\\Users\\vijayalakshmi\\anaconda3\\lib\\site-packages\\xgboost\\core.py\", line 203, in _check_call\n",
      "    raise XGBoostError(py_str(_LIB.XGBGetLastError()))\n",
      "xgboost.core.XGBoostError: [21:34:24] C:/Users/Administrator/workspace/xgboost-win64_release_1.6.0/src/gbm/gbtree.cc:597: Check failed: common::AllVisibleGPUs() >= 1 (0 vs. 1) : No visible GPU is found for XGBoost.\n",
      "\n",
      "--------------------------------------------------------------------------------\n",
      "3 fits failed with the following error:\n",
      "Traceback (most recent call last):\n",
      "  File \"C:\\Users\\vijayalakshmi\\anaconda3\\lib\\site-packages\\sklearn\\model_selection\\_validation.py\", line 680, in _fit_and_score\n",
      "    estimator.fit(X_train, y_train, **fit_params)\n",
      "  File \"C:\\Users\\vijayalakshmi\\anaconda3\\lib\\site-packages\\xgboost\\core.py\", line 532, in inner_f\n",
      "    return f(**kwargs)\n",
      "  File \"C:\\Users\\vijayalakshmi\\anaconda3\\lib\\site-packages\\xgboost\\sklearn.py\", line 972, in fit\n",
      "    callbacks=callbacks,\n",
      "  File \"C:\\Users\\vijayalakshmi\\anaconda3\\lib\\site-packages\\xgboost\\core.py\", line 532, in inner_f\n",
      "    return f(**kwargs)\n",
      "  File \"C:\\Users\\vijayalakshmi\\anaconda3\\lib\\site-packages\\xgboost\\training.py\", line 181, in train\n",
      "    bst.update(dtrain, i, obj)\n",
      "  File \"C:\\Users\\vijayalakshmi\\anaconda3\\lib\\site-packages\\xgboost\\core.py\", line 1735, in update\n",
      "    dtrain.handle))\n",
      "  File \"C:\\Users\\vijayalakshmi\\anaconda3\\lib\\site-packages\\xgboost\\core.py\", line 203, in _check_call\n",
      "    raise XGBoostError(py_str(_LIB.XGBGetLastError()))\n",
      "xgboost.core.XGBoostError: [21:34:28] C:/Users/Administrator/workspace/xgboost-win64_release_1.6.0/src/gbm/gbtree.cc:597: Check failed: common::AllVisibleGPUs() >= 1 (0 vs. 1) : No visible GPU is found for XGBoost.\n",
      "\n",
      "--------------------------------------------------------------------------------\n",
      "3 fits failed with the following error:\n",
      "Traceback (most recent call last):\n",
      "  File \"C:\\Users\\vijayalakshmi\\anaconda3\\lib\\site-packages\\sklearn\\model_selection\\_validation.py\", line 680, in _fit_and_score\n",
      "    estimator.fit(X_train, y_train, **fit_params)\n",
      "  File \"C:\\Users\\vijayalakshmi\\anaconda3\\lib\\site-packages\\xgboost\\core.py\", line 532, in inner_f\n",
      "    return f(**kwargs)\n",
      "  File \"C:\\Users\\vijayalakshmi\\anaconda3\\lib\\site-packages\\xgboost\\sklearn.py\", line 972, in fit\n",
      "    callbacks=callbacks,\n",
      "  File \"C:\\Users\\vijayalakshmi\\anaconda3\\lib\\site-packages\\xgboost\\core.py\", line 532, in inner_f\n",
      "    return f(**kwargs)\n",
      "  File \"C:\\Users\\vijayalakshmi\\anaconda3\\lib\\site-packages\\xgboost\\training.py\", line 181, in train\n",
      "    bst.update(dtrain, i, obj)\n",
      "  File \"C:\\Users\\vijayalakshmi\\anaconda3\\lib\\site-packages\\xgboost\\core.py\", line 1735, in update\n",
      "    dtrain.handle))\n",
      "  File \"C:\\Users\\vijayalakshmi\\anaconda3\\lib\\site-packages\\xgboost\\core.py\", line 203, in _check_call\n",
      "    raise XGBoostError(py_str(_LIB.XGBGetLastError()))\n",
      "xgboost.core.XGBoostError: [21:34:30] C:/Users/Administrator/workspace/xgboost-win64_release_1.6.0/src/gbm/gbtree.cc:597: Check failed: common::AllVisibleGPUs() >= 1 (0 vs. 1) : No visible GPU is found for XGBoost.\n",
      "\n",
      "--------------------------------------------------------------------------------\n",
      "6 fits failed with the following error:\n",
      "Traceback (most recent call last):\n",
      "  File \"C:\\Users\\vijayalakshmi\\anaconda3\\lib\\site-packages\\sklearn\\model_selection\\_validation.py\", line 680, in _fit_and_score\n",
      "    estimator.fit(X_train, y_train, **fit_params)\n",
      "  File \"C:\\Users\\vijayalakshmi\\anaconda3\\lib\\site-packages\\xgboost\\core.py\", line 532, in inner_f\n",
      "    return f(**kwargs)\n",
      "  File \"C:\\Users\\vijayalakshmi\\anaconda3\\lib\\site-packages\\xgboost\\sklearn.py\", line 972, in fit\n",
      "    callbacks=callbacks,\n",
      "  File \"C:\\Users\\vijayalakshmi\\anaconda3\\lib\\site-packages\\xgboost\\core.py\", line 532, in inner_f\n",
      "    return f(**kwargs)\n",
      "  File \"C:\\Users\\vijayalakshmi\\anaconda3\\lib\\site-packages\\xgboost\\training.py\", line 181, in train\n",
      "    bst.update(dtrain, i, obj)\n",
      "  File \"C:\\Users\\vijayalakshmi\\anaconda3\\lib\\site-packages\\xgboost\\core.py\", line 1735, in update\n",
      "    dtrain.handle))\n",
      "  File \"C:\\Users\\vijayalakshmi\\anaconda3\\lib\\site-packages\\xgboost\\core.py\", line 203, in _check_call\n",
      "    raise XGBoostError(py_str(_LIB.XGBGetLastError()))\n",
      "xgboost.core.XGBoostError: [21:34:40] C:/Users/Administrator/workspace/xgboost-win64_release_1.6.0/src/gbm/gbtree.cc:597: Check failed: common::AllVisibleGPUs() >= 1 (0 vs. 1) : No visible GPU is found for XGBoost.\n",
      "\n",
      "--------------------------------------------------------------------------------\n",
      "4 fits failed with the following error:\n",
      "Traceback (most recent call last):\n",
      "  File \"C:\\Users\\vijayalakshmi\\anaconda3\\lib\\site-packages\\sklearn\\model_selection\\_validation.py\", line 680, in _fit_and_score\n",
      "    estimator.fit(X_train, y_train, **fit_params)\n",
      "  File \"C:\\Users\\vijayalakshmi\\anaconda3\\lib\\site-packages\\xgboost\\core.py\", line 532, in inner_f\n",
      "    return f(**kwargs)\n",
      "  File \"C:\\Users\\vijayalakshmi\\anaconda3\\lib\\site-packages\\xgboost\\sklearn.py\", line 972, in fit\n",
      "    callbacks=callbacks,\n",
      "  File \"C:\\Users\\vijayalakshmi\\anaconda3\\lib\\site-packages\\xgboost\\core.py\", line 532, in inner_f\n",
      "    return f(**kwargs)\n",
      "  File \"C:\\Users\\vijayalakshmi\\anaconda3\\lib\\site-packages\\xgboost\\training.py\", line 181, in train\n",
      "    bst.update(dtrain, i, obj)\n",
      "  File \"C:\\Users\\vijayalakshmi\\anaconda3\\lib\\site-packages\\xgboost\\core.py\", line 1735, in update\n",
      "    dtrain.handle))\n",
      "  File \"C:\\Users\\vijayalakshmi\\anaconda3\\lib\\site-packages\\xgboost\\core.py\", line 203, in _check_call\n",
      "    raise XGBoostError(py_str(_LIB.XGBGetLastError()))\n",
      "xgboost.core.XGBoostError: [21:34:50] C:/Users/Administrator/workspace/xgboost-win64_release_1.6.0/src/gbm/gbtree.cc:597: Check failed: common::AllVisibleGPUs() >= 1 (0 vs. 1) : No visible GPU is found for XGBoost.\n",
      "\n",
      "--------------------------------------------------------------------------------\n",
      "2 fits failed with the following error:\n",
      "Traceback (most recent call last):\n",
      "  File \"C:\\Users\\vijayalakshmi\\anaconda3\\lib\\site-packages\\sklearn\\model_selection\\_validation.py\", line 680, in _fit_and_score\n",
      "    estimator.fit(X_train, y_train, **fit_params)\n",
      "  File \"C:\\Users\\vijayalakshmi\\anaconda3\\lib\\site-packages\\xgboost\\core.py\", line 532, in inner_f\n",
      "    return f(**kwargs)\n",
      "  File \"C:\\Users\\vijayalakshmi\\anaconda3\\lib\\site-packages\\xgboost\\sklearn.py\", line 972, in fit\n",
      "    callbacks=callbacks,\n",
      "  File \"C:\\Users\\vijayalakshmi\\anaconda3\\lib\\site-packages\\xgboost\\core.py\", line 532, in inner_f\n",
      "    return f(**kwargs)\n",
      "  File \"C:\\Users\\vijayalakshmi\\anaconda3\\lib\\site-packages\\xgboost\\training.py\", line 181, in train\n",
      "    bst.update(dtrain, i, obj)\n",
      "  File \"C:\\Users\\vijayalakshmi\\anaconda3\\lib\\site-packages\\xgboost\\core.py\", line 1735, in update\n",
      "    dtrain.handle))\n",
      "  File \"C:\\Users\\vijayalakshmi\\anaconda3\\lib\\site-packages\\xgboost\\core.py\", line 203, in _check_call\n",
      "    raise XGBoostError(py_str(_LIB.XGBGetLastError()))\n",
      "xgboost.core.XGBoostError: [21:34:51] C:/Users/Administrator/workspace/xgboost-win64_release_1.6.0/src/gbm/gbtree.cc:597: Check failed: common::AllVisibleGPUs() >= 1 (0 vs. 1) : No visible GPU is found for XGBoost.\n",
      "\n",
      "--------------------------------------------------------------------------------\n",
      "3 fits failed with the following error:\n",
      "Traceback (most recent call last):\n",
      "  File \"C:\\Users\\vijayalakshmi\\anaconda3\\lib\\site-packages\\sklearn\\model_selection\\_validation.py\", line 680, in _fit_and_score\n",
      "    estimator.fit(X_train, y_train, **fit_params)\n",
      "  File \"C:\\Users\\vijayalakshmi\\anaconda3\\lib\\site-packages\\xgboost\\core.py\", line 532, in inner_f\n",
      "    return f(**kwargs)\n",
      "  File \"C:\\Users\\vijayalakshmi\\anaconda3\\lib\\site-packages\\xgboost\\sklearn.py\", line 972, in fit\n",
      "    callbacks=callbacks,\n",
      "  File \"C:\\Users\\vijayalakshmi\\anaconda3\\lib\\site-packages\\xgboost\\core.py\", line 532, in inner_f\n",
      "    return f(**kwargs)\n",
      "  File \"C:\\Users\\vijayalakshmi\\anaconda3\\lib\\site-packages\\xgboost\\training.py\", line 181, in train\n",
      "    bst.update(dtrain, i, obj)\n",
      "  File \"C:\\Users\\vijayalakshmi\\anaconda3\\lib\\site-packages\\xgboost\\core.py\", line 1735, in update\n",
      "    dtrain.handle))\n",
      "  File \"C:\\Users\\vijayalakshmi\\anaconda3\\lib\\site-packages\\xgboost\\core.py\", line 203, in _check_call\n",
      "    raise XGBoostError(py_str(_LIB.XGBGetLastError()))\n",
      "xgboost.core.XGBoostError: [21:34:59] C:/Users/Administrator/workspace/xgboost-win64_release_1.6.0/src/gbm/gbtree.cc:597: Check failed: common::AllVisibleGPUs() >= 1 (0 vs. 1) : No visible GPU is found for XGBoost.\n",
      "\n",
      "--------------------------------------------------------------------------------\n",
      "3 fits failed with the following error:\n",
      "Traceback (most recent call last):\n",
      "  File \"C:\\Users\\vijayalakshmi\\anaconda3\\lib\\site-packages\\sklearn\\model_selection\\_validation.py\", line 680, in _fit_and_score\n",
      "    estimator.fit(X_train, y_train, **fit_params)\n",
      "  File \"C:\\Users\\vijayalakshmi\\anaconda3\\lib\\site-packages\\xgboost\\core.py\", line 532, in inner_f\n",
      "    return f(**kwargs)\n",
      "  File \"C:\\Users\\vijayalakshmi\\anaconda3\\lib\\site-packages\\xgboost\\sklearn.py\", line 972, in fit\n",
      "    callbacks=callbacks,\n",
      "  File \"C:\\Users\\vijayalakshmi\\anaconda3\\lib\\site-packages\\xgboost\\core.py\", line 532, in inner_f\n",
      "    return f(**kwargs)\n",
      "  File \"C:\\Users\\vijayalakshmi\\anaconda3\\lib\\site-packages\\xgboost\\training.py\", line 181, in train\n",
      "    bst.update(dtrain, i, obj)\n",
      "  File \"C:\\Users\\vijayalakshmi\\anaconda3\\lib\\site-packages\\xgboost\\core.py\", line 1735, in update\n",
      "    dtrain.handle))\n",
      "  File \"C:\\Users\\vijayalakshmi\\anaconda3\\lib\\site-packages\\xgboost\\core.py\", line 203, in _check_call\n",
      "    raise XGBoostError(py_str(_LIB.XGBGetLastError()))\n",
      "xgboost.core.XGBoostError: [21:35:10] C:/Users/Administrator/workspace/xgboost-win64_release_1.6.0/src/gbm/gbtree.cc:597: Check failed: common::AllVisibleGPUs() >= 1 (0 vs. 1) : No visible GPU is found for XGBoost.\n",
      "\n",
      "--------------------------------------------------------------------------------\n",
      "3 fits failed with the following error:\n",
      "Traceback (most recent call last):\n",
      "  File \"C:\\Users\\vijayalakshmi\\anaconda3\\lib\\site-packages\\sklearn\\model_selection\\_validation.py\", line 680, in _fit_and_score\n",
      "    estimator.fit(X_train, y_train, **fit_params)\n",
      "  File \"C:\\Users\\vijayalakshmi\\anaconda3\\lib\\site-packages\\xgboost\\core.py\", line 532, in inner_f\n",
      "    return f(**kwargs)\n",
      "  File \"C:\\Users\\vijayalakshmi\\anaconda3\\lib\\site-packages\\xgboost\\sklearn.py\", line 972, in fit\n",
      "    callbacks=callbacks,\n",
      "  File \"C:\\Users\\vijayalakshmi\\anaconda3\\lib\\site-packages\\xgboost\\core.py\", line 532, in inner_f\n",
      "    return f(**kwargs)\n",
      "  File \"C:\\Users\\vijayalakshmi\\anaconda3\\lib\\site-packages\\xgboost\\training.py\", line 181, in train\n",
      "    bst.update(dtrain, i, obj)\n",
      "  File \"C:\\Users\\vijayalakshmi\\anaconda3\\lib\\site-packages\\xgboost\\core.py\", line 1735, in update\n",
      "    dtrain.handle))\n",
      "  File \"C:\\Users\\vijayalakshmi\\anaconda3\\lib\\site-packages\\xgboost\\core.py\", line 203, in _check_call\n",
      "    raise XGBoostError(py_str(_LIB.XGBGetLastError()))\n",
      "xgboost.core.XGBoostError: [21:35:11] C:/Users/Administrator/workspace/xgboost-win64_release_1.6.0/src/gbm/gbtree.cc:597: Check failed: common::AllVisibleGPUs() >= 1 (0 vs. 1) : No visible GPU is found for XGBoost.\n",
      "\n",
      "--------------------------------------------------------------------------------\n",
      "3 fits failed with the following error:\n",
      "Traceback (most recent call last):\n",
      "  File \"C:\\Users\\vijayalakshmi\\anaconda3\\lib\\site-packages\\sklearn\\model_selection\\_validation.py\", line 680, in _fit_and_score\n",
      "    estimator.fit(X_train, y_train, **fit_params)\n",
      "  File \"C:\\Users\\vijayalakshmi\\anaconda3\\lib\\site-packages\\xgboost\\core.py\", line 532, in inner_f\n",
      "    return f(**kwargs)\n",
      "  File \"C:\\Users\\vijayalakshmi\\anaconda3\\lib\\site-packages\\xgboost\\sklearn.py\", line 972, in fit\n",
      "    callbacks=callbacks,\n",
      "  File \"C:\\Users\\vijayalakshmi\\anaconda3\\lib\\site-packages\\xgboost\\core.py\", line 532, in inner_f\n",
      "    return f(**kwargs)\n",
      "  File \"C:\\Users\\vijayalakshmi\\anaconda3\\lib\\site-packages\\xgboost\\training.py\", line 181, in train\n",
      "    bst.update(dtrain, i, obj)\n",
      "  File \"C:\\Users\\vijayalakshmi\\anaconda3\\lib\\site-packages\\xgboost\\core.py\", line 1735, in update\n",
      "    dtrain.handle))\n",
      "  File \"C:\\Users\\vijayalakshmi\\anaconda3\\lib\\site-packages\\xgboost\\core.py\", line 203, in _check_call\n",
      "    raise XGBoostError(py_str(_LIB.XGBGetLastError()))\n",
      "xgboost.core.XGBoostError: [21:35:13] C:/Users/Administrator/workspace/xgboost-win64_release_1.6.0/src/gbm/gbtree.cc:597: Check failed: common::AllVisibleGPUs() >= 1 (0 vs. 1) : No visible GPU is found for XGBoost.\n",
      "\n",
      "--------------------------------------------------------------------------------\n",
      "3 fits failed with the following error:\n",
      "Traceback (most recent call last):\n",
      "  File \"C:\\Users\\vijayalakshmi\\anaconda3\\lib\\site-packages\\sklearn\\model_selection\\_validation.py\", line 680, in _fit_and_score\n",
      "    estimator.fit(X_train, y_train, **fit_params)\n",
      "  File \"C:\\Users\\vijayalakshmi\\anaconda3\\lib\\site-packages\\xgboost\\core.py\", line 532, in inner_f\n",
      "    return f(**kwargs)\n",
      "  File \"C:\\Users\\vijayalakshmi\\anaconda3\\lib\\site-packages\\xgboost\\sklearn.py\", line 972, in fit\n",
      "    callbacks=callbacks,\n",
      "  File \"C:\\Users\\vijayalakshmi\\anaconda3\\lib\\site-packages\\xgboost\\core.py\", line 532, in inner_f\n",
      "    return f(**kwargs)\n",
      "  File \"C:\\Users\\vijayalakshmi\\anaconda3\\lib\\site-packages\\xgboost\\training.py\", line 181, in train\n",
      "    bst.update(dtrain, i, obj)\n",
      "  File \"C:\\Users\\vijayalakshmi\\anaconda3\\lib\\site-packages\\xgboost\\core.py\", line 1735, in update\n",
      "    dtrain.handle))\n",
      "  File \"C:\\Users\\vijayalakshmi\\anaconda3\\lib\\site-packages\\xgboost\\core.py\", line 203, in _check_call\n",
      "    raise XGBoostError(py_str(_LIB.XGBGetLastError()))\n",
      "xgboost.core.XGBoostError: [21:35:21] C:/Users/Administrator/workspace/xgboost-win64_release_1.6.0/src/gbm/gbtree.cc:597: Check failed: common::AllVisibleGPUs() >= 1 (0 vs. 1) : No visible GPU is found for XGBoost.\n",
      "\n",
      "--------------------------------------------------------------------------------\n",
      "6 fits failed with the following error:\n",
      "Traceback (most recent call last):\n",
      "  File \"C:\\Users\\vijayalakshmi\\anaconda3\\lib\\site-packages\\sklearn\\model_selection\\_validation.py\", line 680, in _fit_and_score\n",
      "    estimator.fit(X_train, y_train, **fit_params)\n",
      "  File \"C:\\Users\\vijayalakshmi\\anaconda3\\lib\\site-packages\\xgboost\\core.py\", line 532, in inner_f\n",
      "    return f(**kwargs)\n",
      "  File \"C:\\Users\\vijayalakshmi\\anaconda3\\lib\\site-packages\\xgboost\\sklearn.py\", line 972, in fit\n",
      "    callbacks=callbacks,\n",
      "  File \"C:\\Users\\vijayalakshmi\\anaconda3\\lib\\site-packages\\xgboost\\core.py\", line 532, in inner_f\n",
      "    return f(**kwargs)\n",
      "  File \"C:\\Users\\vijayalakshmi\\anaconda3\\lib\\site-packages\\xgboost\\training.py\", line 181, in train\n",
      "    bst.update(dtrain, i, obj)\n",
      "  File \"C:\\Users\\vijayalakshmi\\anaconda3\\lib\\site-packages\\xgboost\\core.py\", line 1735, in update\n",
      "    dtrain.handle))\n",
      "  File \"C:\\Users\\vijayalakshmi\\anaconda3\\lib\\site-packages\\xgboost\\core.py\", line 203, in _check_call\n",
      "    raise XGBoostError(py_str(_LIB.XGBGetLastError()))\n",
      "xgboost.core.XGBoostError: [21:35:23] C:/Users/Administrator/workspace/xgboost-win64_release_1.6.0/src/gbm/gbtree.cc:597: Check failed: common::AllVisibleGPUs() >= 1 (0 vs. 1) : No visible GPU is found for XGBoost.\n",
      "\n",
      "--------------------------------------------------------------------------------\n",
      "3 fits failed with the following error:\n",
      "Traceback (most recent call last):\n",
      "  File \"C:\\Users\\vijayalakshmi\\anaconda3\\lib\\site-packages\\sklearn\\model_selection\\_validation.py\", line 680, in _fit_and_score\n",
      "    estimator.fit(X_train, y_train, **fit_params)\n",
      "  File \"C:\\Users\\vijayalakshmi\\anaconda3\\lib\\site-packages\\xgboost\\core.py\", line 532, in inner_f\n",
      "    return f(**kwargs)\n",
      "  File \"C:\\Users\\vijayalakshmi\\anaconda3\\lib\\site-packages\\xgboost\\sklearn.py\", line 972, in fit\n",
      "    callbacks=callbacks,\n",
      "  File \"C:\\Users\\vijayalakshmi\\anaconda3\\lib\\site-packages\\xgboost\\core.py\", line 532, in inner_f\n",
      "    return f(**kwargs)\n",
      "  File \"C:\\Users\\vijayalakshmi\\anaconda3\\lib\\site-packages\\xgboost\\training.py\", line 181, in train\n",
      "    bst.update(dtrain, i, obj)\n",
      "  File \"C:\\Users\\vijayalakshmi\\anaconda3\\lib\\site-packages\\xgboost\\core.py\", line 1735, in update\n",
      "    dtrain.handle))\n",
      "  File \"C:\\Users\\vijayalakshmi\\anaconda3\\lib\\site-packages\\xgboost\\core.py\", line 203, in _check_call\n",
      "    raise XGBoostError(py_str(_LIB.XGBGetLastError()))\n",
      "xgboost.core.XGBoostError: [21:35:25] C:/Users/Administrator/workspace/xgboost-win64_release_1.6.0/src/gbm/gbtree.cc:597: Check failed: common::AllVisibleGPUs() >= 1 (0 vs. 1) : No visible GPU is found for XGBoost.\n",
      "\n",
      "--------------------------------------------------------------------------------\n",
      "3 fits failed with the following error:\n",
      "Traceback (most recent call last):\n",
      "  File \"C:\\Users\\vijayalakshmi\\anaconda3\\lib\\site-packages\\sklearn\\model_selection\\_validation.py\", line 680, in _fit_and_score\n",
      "    estimator.fit(X_train, y_train, **fit_params)\n",
      "  File \"C:\\Users\\vijayalakshmi\\anaconda3\\lib\\site-packages\\xgboost\\core.py\", line 532, in inner_f\n",
      "    return f(**kwargs)\n",
      "  File \"C:\\Users\\vijayalakshmi\\anaconda3\\lib\\site-packages\\xgboost\\sklearn.py\", line 972, in fit\n",
      "    callbacks=callbacks,\n",
      "  File \"C:\\Users\\vijayalakshmi\\anaconda3\\lib\\site-packages\\xgboost\\core.py\", line 532, in inner_f\n",
      "    return f(**kwargs)\n",
      "  File \"C:\\Users\\vijayalakshmi\\anaconda3\\lib\\site-packages\\xgboost\\training.py\", line 181, in train\n",
      "    bst.update(dtrain, i, obj)\n",
      "  File \"C:\\Users\\vijayalakshmi\\anaconda3\\lib\\site-packages\\xgboost\\core.py\", line 1735, in update\n",
      "    dtrain.handle))\n",
      "  File \"C:\\Users\\vijayalakshmi\\anaconda3\\lib\\site-packages\\xgboost\\core.py\", line 203, in _check_call\n",
      "    raise XGBoostError(py_str(_LIB.XGBGetLastError()))\n",
      "xgboost.core.XGBoostError: [21:35:32] C:/Users/Administrator/workspace/xgboost-win64_release_1.6.0/src/gbm/gbtree.cc:597: Check failed: common::AllVisibleGPUs() >= 1 (0 vs. 1) : No visible GPU is found for XGBoost.\n",
      "\n",
      "--------------------------------------------------------------------------------\n",
      "9 fits failed with the following error:\n",
      "Traceback (most recent call last):\n",
      "  File \"C:\\Users\\vijayalakshmi\\anaconda3\\lib\\site-packages\\sklearn\\model_selection\\_validation.py\", line 680, in _fit_and_score\n",
      "    estimator.fit(X_train, y_train, **fit_params)\n",
      "  File \"C:\\Users\\vijayalakshmi\\anaconda3\\lib\\site-packages\\xgboost\\core.py\", line 532, in inner_f\n",
      "    return f(**kwargs)\n",
      "  File \"C:\\Users\\vijayalakshmi\\anaconda3\\lib\\site-packages\\xgboost\\sklearn.py\", line 972, in fit\n",
      "    callbacks=callbacks,\n",
      "  File \"C:\\Users\\vijayalakshmi\\anaconda3\\lib\\site-packages\\xgboost\\core.py\", line 532, in inner_f\n",
      "    return f(**kwargs)\n",
      "  File \"C:\\Users\\vijayalakshmi\\anaconda3\\lib\\site-packages\\xgboost\\training.py\", line 181, in train\n",
      "    bst.update(dtrain, i, obj)\n",
      "  File \"C:\\Users\\vijayalakshmi\\anaconda3\\lib\\site-packages\\xgboost\\core.py\", line 1735, in update\n",
      "    dtrain.handle))\n",
      "  File \"C:\\Users\\vijayalakshmi\\anaconda3\\lib\\site-packages\\xgboost\\core.py\", line 203, in _check_call\n",
      "    raise XGBoostError(py_str(_LIB.XGBGetLastError()))\n",
      "xgboost.core.XGBoostError: [21:35:37] C:/Users/Administrator/workspace/xgboost-win64_release_1.6.0/src/gbm/gbtree.cc:597: Check failed: common::AllVisibleGPUs() >= 1 (0 vs. 1) : No visible GPU is found for XGBoost.\n",
      "\n",
      "--------------------------------------------------------------------------------\n",
      "3 fits failed with the following error:\n",
      "Traceback (most recent call last):\n",
      "  File \"C:\\Users\\vijayalakshmi\\anaconda3\\lib\\site-packages\\sklearn\\model_selection\\_validation.py\", line 680, in _fit_and_score\n",
      "    estimator.fit(X_train, y_train, **fit_params)\n",
      "  File \"C:\\Users\\vijayalakshmi\\anaconda3\\lib\\site-packages\\xgboost\\core.py\", line 532, in inner_f\n",
      "    return f(**kwargs)\n",
      "  File \"C:\\Users\\vijayalakshmi\\anaconda3\\lib\\site-packages\\xgboost\\sklearn.py\", line 972, in fit\n",
      "    callbacks=callbacks,\n",
      "  File \"C:\\Users\\vijayalakshmi\\anaconda3\\lib\\site-packages\\xgboost\\core.py\", line 532, in inner_f\n",
      "    return f(**kwargs)\n",
      "  File \"C:\\Users\\vijayalakshmi\\anaconda3\\lib\\site-packages\\xgboost\\training.py\", line 181, in train\n",
      "    bst.update(dtrain, i, obj)\n",
      "  File \"C:\\Users\\vijayalakshmi\\anaconda3\\lib\\site-packages\\xgboost\\core.py\", line 1735, in update\n",
      "    dtrain.handle))\n",
      "  File \"C:\\Users\\vijayalakshmi\\anaconda3\\lib\\site-packages\\xgboost\\core.py\", line 203, in _check_call\n",
      "    raise XGBoostError(py_str(_LIB.XGBGetLastError()))\n",
      "xgboost.core.XGBoostError: [21:35:39] C:/Users/Administrator/workspace/xgboost-win64_release_1.6.0/src/gbm/gbtree.cc:597: Check failed: common::AllVisibleGPUs() >= 1 (0 vs. 1) : No visible GPU is found for XGBoost.\n",
      "\n",
      "--------------------------------------------------------------------------------\n",
      "3 fits failed with the following error:\n",
      "Traceback (most recent call last):\n",
      "  File \"C:\\Users\\vijayalakshmi\\anaconda3\\lib\\site-packages\\sklearn\\model_selection\\_validation.py\", line 680, in _fit_and_score\n",
      "    estimator.fit(X_train, y_train, **fit_params)\n",
      "  File \"C:\\Users\\vijayalakshmi\\anaconda3\\lib\\site-packages\\xgboost\\core.py\", line 532, in inner_f\n",
      "    return f(**kwargs)\n",
      "  File \"C:\\Users\\vijayalakshmi\\anaconda3\\lib\\site-packages\\xgboost\\sklearn.py\", line 972, in fit\n",
      "    callbacks=callbacks,\n",
      "  File \"C:\\Users\\vijayalakshmi\\anaconda3\\lib\\site-packages\\xgboost\\core.py\", line 532, in inner_f\n",
      "    return f(**kwargs)\n",
      "  File \"C:\\Users\\vijayalakshmi\\anaconda3\\lib\\site-packages\\xgboost\\training.py\", line 181, in train\n",
      "    bst.update(dtrain, i, obj)\n",
      "  File \"C:\\Users\\vijayalakshmi\\anaconda3\\lib\\site-packages\\xgboost\\core.py\", line 1735, in update\n",
      "    dtrain.handle))\n",
      "  File \"C:\\Users\\vijayalakshmi\\anaconda3\\lib\\site-packages\\xgboost\\core.py\", line 203, in _check_call\n",
      "    raise XGBoostError(py_str(_LIB.XGBGetLastError()))\n",
      "xgboost.core.XGBoostError: [21:35:49] C:/Users/Administrator/workspace/xgboost-win64_release_1.6.0/src/gbm/gbtree.cc:597: Check failed: common::AllVisibleGPUs() >= 1 (0 vs. 1) : No visible GPU is found for XGBoost.\n",
      "\n",
      "--------------------------------------------------------------------------------\n",
      "3 fits failed with the following error:\n",
      "Traceback (most recent call last):\n",
      "  File \"C:\\Users\\vijayalakshmi\\anaconda3\\lib\\site-packages\\sklearn\\model_selection\\_validation.py\", line 680, in _fit_and_score\n",
      "    estimator.fit(X_train, y_train, **fit_params)\n",
      "  File \"C:\\Users\\vijayalakshmi\\anaconda3\\lib\\site-packages\\xgboost\\core.py\", line 532, in inner_f\n",
      "    return f(**kwargs)\n",
      "  File \"C:\\Users\\vijayalakshmi\\anaconda3\\lib\\site-packages\\xgboost\\sklearn.py\", line 972, in fit\n",
      "    callbacks=callbacks,\n",
      "  File \"C:\\Users\\vijayalakshmi\\anaconda3\\lib\\site-packages\\xgboost\\core.py\", line 532, in inner_f\n",
      "    return f(**kwargs)\n",
      "  File \"C:\\Users\\vijayalakshmi\\anaconda3\\lib\\site-packages\\xgboost\\training.py\", line 181, in train\n",
      "    bst.update(dtrain, i, obj)\n",
      "  File \"C:\\Users\\vijayalakshmi\\anaconda3\\lib\\site-packages\\xgboost\\core.py\", line 1735, in update\n",
      "    dtrain.handle))\n",
      "  File \"C:\\Users\\vijayalakshmi\\anaconda3\\lib\\site-packages\\xgboost\\core.py\", line 203, in _check_call\n",
      "    raise XGBoostError(py_str(_LIB.XGBGetLastError()))\n",
      "xgboost.core.XGBoostError: [21:35:52] C:/Users/Administrator/workspace/xgboost-win64_release_1.6.0/src/gbm/gbtree.cc:597: Check failed: common::AllVisibleGPUs() >= 1 (0 vs. 1) : No visible GPU is found for XGBoost.\n",
      "\n",
      "--------------------------------------------------------------------------------\n",
      "3 fits failed with the following error:\n",
      "Traceback (most recent call last):\n",
      "  File \"C:\\Users\\vijayalakshmi\\anaconda3\\lib\\site-packages\\sklearn\\model_selection\\_validation.py\", line 680, in _fit_and_score\n",
      "    estimator.fit(X_train, y_train, **fit_params)\n",
      "  File \"C:\\Users\\vijayalakshmi\\anaconda3\\lib\\site-packages\\xgboost\\core.py\", line 532, in inner_f\n",
      "    return f(**kwargs)\n",
      "  File \"C:\\Users\\vijayalakshmi\\anaconda3\\lib\\site-packages\\xgboost\\sklearn.py\", line 972, in fit\n",
      "    callbacks=callbacks,\n",
      "  File \"C:\\Users\\vijayalakshmi\\anaconda3\\lib\\site-packages\\xgboost\\core.py\", line 532, in inner_f\n",
      "    return f(**kwargs)\n",
      "  File \"C:\\Users\\vijayalakshmi\\anaconda3\\lib\\site-packages\\xgboost\\training.py\", line 181, in train\n",
      "    bst.update(dtrain, i, obj)\n",
      "  File \"C:\\Users\\vijayalakshmi\\anaconda3\\lib\\site-packages\\xgboost\\core.py\", line 1735, in update\n",
      "    dtrain.handle))\n",
      "  File \"C:\\Users\\vijayalakshmi\\anaconda3\\lib\\site-packages\\xgboost\\core.py\", line 203, in _check_call\n",
      "    raise XGBoostError(py_str(_LIB.XGBGetLastError()))\n",
      "xgboost.core.XGBoostError: [21:35:55] C:/Users/Administrator/workspace/xgboost-win64_release_1.6.0/src/gbm/gbtree.cc:597: Check failed: common::AllVisibleGPUs() >= 1 (0 vs. 1) : No visible GPU is found for XGBoost.\n",
      "\n",
      "--------------------------------------------------------------------------------\n",
      "6 fits failed with the following error:\n",
      "Traceback (most recent call last):\n",
      "  File \"C:\\Users\\vijayalakshmi\\anaconda3\\lib\\site-packages\\sklearn\\model_selection\\_validation.py\", line 680, in _fit_and_score\n",
      "    estimator.fit(X_train, y_train, **fit_params)\n",
      "  File \"C:\\Users\\vijayalakshmi\\anaconda3\\lib\\site-packages\\xgboost\\core.py\", line 532, in inner_f\n",
      "    return f(**kwargs)\n",
      "  File \"C:\\Users\\vijayalakshmi\\anaconda3\\lib\\site-packages\\xgboost\\sklearn.py\", line 972, in fit\n",
      "    callbacks=callbacks,\n",
      "  File \"C:\\Users\\vijayalakshmi\\anaconda3\\lib\\site-packages\\xgboost\\core.py\", line 532, in inner_f\n",
      "    return f(**kwargs)\n",
      "  File \"C:\\Users\\vijayalakshmi\\anaconda3\\lib\\site-packages\\xgboost\\training.py\", line 181, in train\n",
      "    bst.update(dtrain, i, obj)\n",
      "  File \"C:\\Users\\vijayalakshmi\\anaconda3\\lib\\site-packages\\xgboost\\core.py\", line 1735, in update\n",
      "    dtrain.handle))\n",
      "  File \"C:\\Users\\vijayalakshmi\\anaconda3\\lib\\site-packages\\xgboost\\core.py\", line 203, in _check_call\n",
      "    raise XGBoostError(py_str(_LIB.XGBGetLastError()))\n",
      "xgboost.core.XGBoostError: [21:36:00] C:/Users/Administrator/workspace/xgboost-win64_release_1.6.0/src/gbm/gbtree.cc:597: Check failed: common::AllVisibleGPUs() >= 1 (0 vs. 1) : No visible GPU is found for XGBoost.\n",
      "\n",
      "--------------------------------------------------------------------------------\n",
      "6 fits failed with the following error:\n",
      "Traceback (most recent call last):\n",
      "  File \"C:\\Users\\vijayalakshmi\\anaconda3\\lib\\site-packages\\sklearn\\model_selection\\_validation.py\", line 680, in _fit_and_score\n",
      "    estimator.fit(X_train, y_train, **fit_params)\n",
      "  File \"C:\\Users\\vijayalakshmi\\anaconda3\\lib\\site-packages\\xgboost\\core.py\", line 532, in inner_f\n",
      "    return f(**kwargs)\n",
      "  File \"C:\\Users\\vijayalakshmi\\anaconda3\\lib\\site-packages\\xgboost\\sklearn.py\", line 972, in fit\n",
      "    callbacks=callbacks,\n",
      "  File \"C:\\Users\\vijayalakshmi\\anaconda3\\lib\\site-packages\\xgboost\\core.py\", line 532, in inner_f\n",
      "    return f(**kwargs)\n",
      "  File \"C:\\Users\\vijayalakshmi\\anaconda3\\lib\\site-packages\\xgboost\\training.py\", line 181, in train\n",
      "    bst.update(dtrain, i, obj)\n",
      "  File \"C:\\Users\\vijayalakshmi\\anaconda3\\lib\\site-packages\\xgboost\\core.py\", line 1735, in update\n",
      "    dtrain.handle))\n",
      "  File \"C:\\Users\\vijayalakshmi\\anaconda3\\lib\\site-packages\\xgboost\\core.py\", line 203, in _check_call\n",
      "    raise XGBoostError(py_str(_LIB.XGBGetLastError()))\n",
      "xgboost.core.XGBoostError: [21:36:04] C:/Users/Administrator/workspace/xgboost-win64_release_1.6.0/src/gbm/gbtree.cc:597: Check failed: common::AllVisibleGPUs() >= 1 (0 vs. 1) : No visible GPU is found for XGBoost.\n",
      "\n",
      "--------------------------------------------------------------------------------\n",
      "3 fits failed with the following error:\n",
      "Traceback (most recent call last):\n",
      "  File \"C:\\Users\\vijayalakshmi\\anaconda3\\lib\\site-packages\\sklearn\\model_selection\\_validation.py\", line 680, in _fit_and_score\n",
      "    estimator.fit(X_train, y_train, **fit_params)\n",
      "  File \"C:\\Users\\vijayalakshmi\\anaconda3\\lib\\site-packages\\xgboost\\core.py\", line 532, in inner_f\n",
      "    return f(**kwargs)\n",
      "  File \"C:\\Users\\vijayalakshmi\\anaconda3\\lib\\site-packages\\xgboost\\sklearn.py\", line 972, in fit\n",
      "    callbacks=callbacks,\n",
      "  File \"C:\\Users\\vijayalakshmi\\anaconda3\\lib\\site-packages\\xgboost\\core.py\", line 532, in inner_f\n",
      "    return f(**kwargs)\n",
      "  File \"C:\\Users\\vijayalakshmi\\anaconda3\\lib\\site-packages\\xgboost\\training.py\", line 181, in train\n",
      "    bst.update(dtrain, i, obj)\n",
      "  File \"C:\\Users\\vijayalakshmi\\anaconda3\\lib\\site-packages\\xgboost\\core.py\", line 1735, in update\n",
      "    dtrain.handle))\n",
      "  File \"C:\\Users\\vijayalakshmi\\anaconda3\\lib\\site-packages\\xgboost\\core.py\", line 203, in _check_call\n",
      "    raise XGBoostError(py_str(_LIB.XGBGetLastError()))\n",
      "xgboost.core.XGBoostError: [21:36:05] C:/Users/Administrator/workspace/xgboost-win64_release_1.6.0/src/gbm/gbtree.cc:597: Check failed: common::AllVisibleGPUs() >= 1 (0 vs. 1) : No visible GPU is found for XGBoost.\n",
      "\n",
      "--------------------------------------------------------------------------------\n",
      "6 fits failed with the following error:\n",
      "Traceback (most recent call last):\n",
      "  File \"C:\\Users\\vijayalakshmi\\anaconda3\\lib\\site-packages\\sklearn\\model_selection\\_validation.py\", line 680, in _fit_and_score\n",
      "    estimator.fit(X_train, y_train, **fit_params)\n",
      "  File \"C:\\Users\\vijayalakshmi\\anaconda3\\lib\\site-packages\\xgboost\\core.py\", line 532, in inner_f\n",
      "    return f(**kwargs)\n",
      "  File \"C:\\Users\\vijayalakshmi\\anaconda3\\lib\\site-packages\\xgboost\\sklearn.py\", line 972, in fit\n",
      "    callbacks=callbacks,\n",
      "  File \"C:\\Users\\vijayalakshmi\\anaconda3\\lib\\site-packages\\xgboost\\core.py\", line 532, in inner_f\n",
      "    return f(**kwargs)\n",
      "  File \"C:\\Users\\vijayalakshmi\\anaconda3\\lib\\site-packages\\xgboost\\training.py\", line 181, in train\n",
      "    bst.update(dtrain, i, obj)\n",
      "  File \"C:\\Users\\vijayalakshmi\\anaconda3\\lib\\site-packages\\xgboost\\core.py\", line 1735, in update\n",
      "    dtrain.handle))\n",
      "  File \"C:\\Users\\vijayalakshmi\\anaconda3\\lib\\site-packages\\xgboost\\core.py\", line 203, in _check_call\n",
      "    raise XGBoostError(py_str(_LIB.XGBGetLastError()))\n",
      "xgboost.core.XGBoostError: [21:36:26] C:/Users/Administrator/workspace/xgboost-win64_release_1.6.0/src/gbm/gbtree.cc:597: Check failed: common::AllVisibleGPUs() >= 1 (0 vs. 1) : No visible GPU is found for XGBoost.\n",
      "\n",
      "--------------------------------------------------------------------------------\n",
      "3 fits failed with the following error:\n",
      "Traceback (most recent call last):\n",
      "  File \"C:\\Users\\vijayalakshmi\\anaconda3\\lib\\site-packages\\sklearn\\model_selection\\_validation.py\", line 680, in _fit_and_score\n",
      "    estimator.fit(X_train, y_train, **fit_params)\n",
      "  File \"C:\\Users\\vijayalakshmi\\anaconda3\\lib\\site-packages\\xgboost\\core.py\", line 532, in inner_f\n",
      "    return f(**kwargs)\n",
      "  File \"C:\\Users\\vijayalakshmi\\anaconda3\\lib\\site-packages\\xgboost\\sklearn.py\", line 972, in fit\n",
      "    callbacks=callbacks,\n",
      "  File \"C:\\Users\\vijayalakshmi\\anaconda3\\lib\\site-packages\\xgboost\\core.py\", line 532, in inner_f\n",
      "    return f(**kwargs)\n",
      "  File \"C:\\Users\\vijayalakshmi\\anaconda3\\lib\\site-packages\\xgboost\\training.py\", line 181, in train\n",
      "    bst.update(dtrain, i, obj)\n",
      "  File \"C:\\Users\\vijayalakshmi\\anaconda3\\lib\\site-packages\\xgboost\\core.py\", line 1735, in update\n",
      "    dtrain.handle))\n",
      "  File \"C:\\Users\\vijayalakshmi\\anaconda3\\lib\\site-packages\\xgboost\\core.py\", line 203, in _check_call\n",
      "    raise XGBoostError(py_str(_LIB.XGBGetLastError()))\n",
      "xgboost.core.XGBoostError: [21:36:32] C:/Users/Administrator/workspace/xgboost-win64_release_1.6.0/src/gbm/gbtree.cc:597: Check failed: common::AllVisibleGPUs() >= 1 (0 vs. 1) : No visible GPU is found for XGBoost.\n",
      "\n",
      "--------------------------------------------------------------------------------\n",
      "3 fits failed with the following error:\n",
      "Traceback (most recent call last):\n",
      "  File \"C:\\Users\\vijayalakshmi\\anaconda3\\lib\\site-packages\\sklearn\\model_selection\\_validation.py\", line 680, in _fit_and_score\n",
      "    estimator.fit(X_train, y_train, **fit_params)\n",
      "  File \"C:\\Users\\vijayalakshmi\\anaconda3\\lib\\site-packages\\xgboost\\core.py\", line 532, in inner_f\n",
      "    return f(**kwargs)\n",
      "  File \"C:\\Users\\vijayalakshmi\\anaconda3\\lib\\site-packages\\xgboost\\sklearn.py\", line 972, in fit\n",
      "    callbacks=callbacks,\n",
      "  File \"C:\\Users\\vijayalakshmi\\anaconda3\\lib\\site-packages\\xgboost\\core.py\", line 532, in inner_f\n",
      "    return f(**kwargs)\n",
      "  File \"C:\\Users\\vijayalakshmi\\anaconda3\\lib\\site-packages\\xgboost\\training.py\", line 181, in train\n",
      "    bst.update(dtrain, i, obj)\n",
      "  File \"C:\\Users\\vijayalakshmi\\anaconda3\\lib\\site-packages\\xgboost\\core.py\", line 1735, in update\n",
      "    dtrain.handle))\n",
      "  File \"C:\\Users\\vijayalakshmi\\anaconda3\\lib\\site-packages\\xgboost\\core.py\", line 203, in _check_call\n",
      "    raise XGBoostError(py_str(_LIB.XGBGetLastError()))\n",
      "xgboost.core.XGBoostError: [21:36:34] C:/Users/Administrator/workspace/xgboost-win64_release_1.6.0/src/gbm/gbtree.cc:597: Check failed: common::AllVisibleGPUs() >= 1 (0 vs. 1) : No visible GPU is found for XGBoost.\n",
      "\n",
      "--------------------------------------------------------------------------------\n",
      "6 fits failed with the following error:\n",
      "Traceback (most recent call last):\n",
      "  File \"C:\\Users\\vijayalakshmi\\anaconda3\\lib\\site-packages\\sklearn\\model_selection\\_validation.py\", line 680, in _fit_and_score\n",
      "    estimator.fit(X_train, y_train, **fit_params)\n",
      "  File \"C:\\Users\\vijayalakshmi\\anaconda3\\lib\\site-packages\\xgboost\\core.py\", line 532, in inner_f\n",
      "    return f(**kwargs)\n",
      "  File \"C:\\Users\\vijayalakshmi\\anaconda3\\lib\\site-packages\\xgboost\\sklearn.py\", line 972, in fit\n",
      "    callbacks=callbacks,\n",
      "  File \"C:\\Users\\vijayalakshmi\\anaconda3\\lib\\site-packages\\xgboost\\core.py\", line 532, in inner_f\n",
      "    return f(**kwargs)\n",
      "  File \"C:\\Users\\vijayalakshmi\\anaconda3\\lib\\site-packages\\xgboost\\training.py\", line 181, in train\n",
      "    bst.update(dtrain, i, obj)\n",
      "  File \"C:\\Users\\vijayalakshmi\\anaconda3\\lib\\site-packages\\xgboost\\core.py\", line 1735, in update\n",
      "    dtrain.handle))\n",
      "  File \"C:\\Users\\vijayalakshmi\\anaconda3\\lib\\site-packages\\xgboost\\core.py\", line 203, in _check_call\n",
      "    raise XGBoostError(py_str(_LIB.XGBGetLastError()))\n",
      "xgboost.core.XGBoostError: [21:36:36] C:/Users/Administrator/workspace/xgboost-win64_release_1.6.0/src/gbm/gbtree.cc:597: Check failed: common::AllVisibleGPUs() >= 1 (0 vs. 1) : No visible GPU is found for XGBoost.\n",
      "\n",
      "--------------------------------------------------------------------------------\n",
      "6 fits failed with the following error:\n",
      "Traceback (most recent call last):\n",
      "  File \"C:\\Users\\vijayalakshmi\\anaconda3\\lib\\site-packages\\sklearn\\model_selection\\_validation.py\", line 680, in _fit_and_score\n",
      "    estimator.fit(X_train, y_train, **fit_params)\n",
      "  File \"C:\\Users\\vijayalakshmi\\anaconda3\\lib\\site-packages\\xgboost\\core.py\", line 532, in inner_f\n",
      "    return f(**kwargs)\n",
      "  File \"C:\\Users\\vijayalakshmi\\anaconda3\\lib\\site-packages\\xgboost\\sklearn.py\", line 972, in fit\n",
      "    callbacks=callbacks,\n",
      "  File \"C:\\Users\\vijayalakshmi\\anaconda3\\lib\\site-packages\\xgboost\\core.py\", line 532, in inner_f\n",
      "    return f(**kwargs)\n",
      "  File \"C:\\Users\\vijayalakshmi\\anaconda3\\lib\\site-packages\\xgboost\\training.py\", line 181, in train\n",
      "    bst.update(dtrain, i, obj)\n",
      "  File \"C:\\Users\\vijayalakshmi\\anaconda3\\lib\\site-packages\\xgboost\\core.py\", line 1735, in update\n",
      "    dtrain.handle))\n",
      "  File \"C:\\Users\\vijayalakshmi\\anaconda3\\lib\\site-packages\\xgboost\\core.py\", line 203, in _check_call\n",
      "    raise XGBoostError(py_str(_LIB.XGBGetLastError()))\n",
      "xgboost.core.XGBoostError: [21:36:48] C:/Users/Administrator/workspace/xgboost-win64_release_1.6.0/src/gbm/gbtree.cc:597: Check failed: common::AllVisibleGPUs() >= 1 (0 vs. 1) : No visible GPU is found for XGBoost.\n",
      "\n",
      "--------------------------------------------------------------------------------\n",
      "3 fits failed with the following error:\n",
      "Traceback (most recent call last):\n",
      "  File \"C:\\Users\\vijayalakshmi\\anaconda3\\lib\\site-packages\\sklearn\\model_selection\\_validation.py\", line 680, in _fit_and_score\n",
      "    estimator.fit(X_train, y_train, **fit_params)\n",
      "  File \"C:\\Users\\vijayalakshmi\\anaconda3\\lib\\site-packages\\xgboost\\core.py\", line 532, in inner_f\n",
      "    return f(**kwargs)\n",
      "  File \"C:\\Users\\vijayalakshmi\\anaconda3\\lib\\site-packages\\xgboost\\sklearn.py\", line 972, in fit\n",
      "    callbacks=callbacks,\n",
      "  File \"C:\\Users\\vijayalakshmi\\anaconda3\\lib\\site-packages\\xgboost\\core.py\", line 532, in inner_f\n",
      "    return f(**kwargs)\n",
      "  File \"C:\\Users\\vijayalakshmi\\anaconda3\\lib\\site-packages\\xgboost\\training.py\", line 181, in train\n",
      "    bst.update(dtrain, i, obj)\n",
      "  File \"C:\\Users\\vijayalakshmi\\anaconda3\\lib\\site-packages\\xgboost\\core.py\", line 1735, in update\n",
      "    dtrain.handle))\n",
      "  File \"C:\\Users\\vijayalakshmi\\anaconda3\\lib\\site-packages\\xgboost\\core.py\", line 203, in _check_call\n",
      "    raise XGBoostError(py_str(_LIB.XGBGetLastError()))\n",
      "xgboost.core.XGBoostError: [21:36:57] C:/Users/Administrator/workspace/xgboost-win64_release_1.6.0/src/gbm/gbtree.cc:597: Check failed: common::AllVisibleGPUs() >= 1 (0 vs. 1) : No visible GPU is found for XGBoost.\n",
      "\n",
      "--------------------------------------------------------------------------------\n",
      "1 fits failed with the following error:\n",
      "Traceback (most recent call last):\n",
      "  File \"C:\\Users\\vijayalakshmi\\anaconda3\\lib\\site-packages\\sklearn\\model_selection\\_validation.py\", line 680, in _fit_and_score\n",
      "    estimator.fit(X_train, y_train, **fit_params)\n",
      "  File \"C:\\Users\\vijayalakshmi\\anaconda3\\lib\\site-packages\\xgboost\\core.py\", line 532, in inner_f\n",
      "    return f(**kwargs)\n",
      "  File \"C:\\Users\\vijayalakshmi\\anaconda3\\lib\\site-packages\\xgboost\\sklearn.py\", line 972, in fit\n",
      "    callbacks=callbacks,\n",
      "  File \"C:\\Users\\vijayalakshmi\\anaconda3\\lib\\site-packages\\xgboost\\core.py\", line 532, in inner_f\n",
      "    return f(**kwargs)\n",
      "  File \"C:\\Users\\vijayalakshmi\\anaconda3\\lib\\site-packages\\xgboost\\training.py\", line 181, in train\n",
      "    bst.update(dtrain, i, obj)\n",
      "  File \"C:\\Users\\vijayalakshmi\\anaconda3\\lib\\site-packages\\xgboost\\core.py\", line 1735, in update\n",
      "    dtrain.handle))\n",
      "  File \"C:\\Users\\vijayalakshmi\\anaconda3\\lib\\site-packages\\xgboost\\core.py\", line 203, in _check_call\n",
      "    raise XGBoostError(py_str(_LIB.XGBGetLastError()))\n",
      "xgboost.core.XGBoostError: [21:37:04] C:/Users/Administrator/workspace/xgboost-win64_release_1.6.0/src/gbm/gbtree.cc:597: Check failed: common::AllVisibleGPUs() >= 1 (0 vs. 1) : No visible GPU is found for XGBoost.\n",
      "\n",
      "--------------------------------------------------------------------------------\n",
      "2 fits failed with the following error:\n",
      "Traceback (most recent call last):\n",
      "  File \"C:\\Users\\vijayalakshmi\\anaconda3\\lib\\site-packages\\sklearn\\model_selection\\_validation.py\", line 680, in _fit_and_score\n",
      "    estimator.fit(X_train, y_train, **fit_params)\n",
      "  File \"C:\\Users\\vijayalakshmi\\anaconda3\\lib\\site-packages\\xgboost\\core.py\", line 532, in inner_f\n",
      "    return f(**kwargs)\n",
      "  File \"C:\\Users\\vijayalakshmi\\anaconda3\\lib\\site-packages\\xgboost\\sklearn.py\", line 972, in fit\n",
      "    callbacks=callbacks,\n",
      "  File \"C:\\Users\\vijayalakshmi\\anaconda3\\lib\\site-packages\\xgboost\\core.py\", line 532, in inner_f\n",
      "    return f(**kwargs)\n",
      "  File \"C:\\Users\\vijayalakshmi\\anaconda3\\lib\\site-packages\\xgboost\\training.py\", line 181, in train\n",
      "    bst.update(dtrain, i, obj)\n",
      "  File \"C:\\Users\\vijayalakshmi\\anaconda3\\lib\\site-packages\\xgboost\\core.py\", line 1735, in update\n",
      "    dtrain.handle))\n",
      "  File \"C:\\Users\\vijayalakshmi\\anaconda3\\lib\\site-packages\\xgboost\\core.py\", line 203, in _check_call\n",
      "    raise XGBoostError(py_str(_LIB.XGBGetLastError()))\n",
      "xgboost.core.XGBoostError: [21:37:05] C:/Users/Administrator/workspace/xgboost-win64_release_1.6.0/src/gbm/gbtree.cc:597: Check failed: common::AllVisibleGPUs() >= 1 (0 vs. 1) : No visible GPU is found for XGBoost.\n",
      "\n",
      "  warnings.warn(some_fits_failed_message, FitFailedWarning)\n",
      "C:\\Users\\vijayalakshmi\\anaconda3\\lib\\site-packages\\sklearn\\model_selection\\_search.py:972: UserWarning: One or more of the test scores are non-finite: [-146.47445268           nan  -98.26810973           nan           nan\n",
      "           nan           nan -146.28793425    0.98562071 -146.51375538\n",
      "    0.98844464    0.99100401    0.99137429    0.98477832  -98.26810973\n",
      "    0.9917199     0.99031754    0.98438205           nan    0.98814553\n",
      "    0.99146324           nan           nan           nan    0.99213566\n",
      "    0.98967584 -150.67182094           nan -158.68240178           nan\n",
      " -146.28793425    0.99054457 -158.94033573           nan           nan\n",
      "    0.98426944 -154.83416372 -129.98508646           nan    0.99462252\n",
      "           nan -146.46798345 -129.54670758 -150.41804029 -146.28793425\n",
      "    0.9804147  -150.67182094  -73.06528698    0.98558061           nan\n",
      "    0.9936658     0.98515763    0.98824463 -129.98508646    0.99102591\n",
      "    0.98900881    0.9824638     0.98853202           nan    0.98246495\n",
      "           nan -146.51280128 -137.99733722           nan    0.98505885\n",
      "    0.9928987     0.98477538  -98.26810973    0.99013222    0.98927027\n",
      "           nan    0.99166271           nan    0.98005489           nan\n",
      "    0.97348674    0.98817637           nan -121.83431206    0.9910843\n",
      " -129.70929455  -73.06528698    0.98569171 -146.28793425           nan\n",
      " -154.78196792 -146.51280128 -146.47445268 -121.83431206 -162.81000799\n",
      "           nan -146.47445268           nan           nan    0.98123138\n",
      "           nan    0.98258902 -162.81000799  -73.18911178    0.99210502\n",
      "    0.985748   -129.98508646    0.99223801           nan    0.98717782\n",
      " -150.41804029 -146.51375538           nan -146.51375538    0.98709742\n",
      "    0.98274727           nan -121.5621916     0.98909577           nan\n",
      "           nan -158.68240178    0.98971785 -121.83431206           nan\n",
      "           nan -101.71605418           nan -162.81000799    0.9936658\n",
      "    0.99199175 -154.78196792 -129.98508646    0.9922051     0.98836803\n",
      " -129.92628768    0.98293696 -113.60231484 -129.92628768    0.99211709\n",
      "    0.97547365    0.98486439 -146.51375538    0.98730801    0.98593573\n",
      "    0.99171001    0.99039262    0.98571779           nan           nan\n",
      " -137.99733722 -129.98508646 -121.23587887 -121.5621916     0.99149096\n",
      "  -98.26810973    0.95134303           nan -113.60231484 -121.83431206\n",
      "    0.98312942           nan -150.67182094           nan    0.99050772\n",
      "           nan    0.98739742  -98.26810973 -121.83431206 -158.94033573\n",
      "    0.99206661    0.99287381    0.98896024    0.98484731    0.96608483\n",
      " -121.23587887 -158.68240178           nan           nan    0.97899861\n",
      "  -73.06528698    0.98675792    0.98569171 -113.60231484    0.98169632\n",
      " -146.28793425 -150.41804029    0.98887933  -62.15169609           nan\n",
      " -154.78196792 -121.23587887 -129.70929455 -158.68240178    0.98728553\n",
      " -121.23587887           nan    0.98595297    0.98293696    0.98447369\n",
      " -162.97655267    0.96271296  -72.77736319 -158.68240178 -113.60231484]\n",
      "  category=UserWarning,\n"
     ]
    },
    {
     "data": {
      "text/plain": [
       "RandomizedSearchCV(cv=3,\n",
       "                   estimator=XGBRegressor(base_score=None, booster=None,\n",
       "                                          callbacks=None,\n",
       "                                          colsample_bylevel=None,\n",
       "                                          colsample_bynode=None,\n",
       "                                          colsample_bytree=None,\n",
       "                                          early_stopping_rounds=None,\n",
       "                                          enable_categorical=False,\n",
       "                                          eval_metric=None, gamma=None,\n",
       "                                          gpu_id=None, grow_policy=None,\n",
       "                                          importance_type=None,\n",
       "                                          interaction_constraints=None,\n",
       "                                          learning_rate=None, max_bin=None,\n",
       "                                          m...\n",
       "                   param_distributions={'eta': [0.1, 0.2, 0.30000000000000004,\n",
       "                                                0.4, 0.5, 0.6],\n",
       "                                        'gamma': [0, 0, 0, 0, 0, 0],\n",
       "                                        'max_depth': [2, 4, 6, 8, 10, 12, 14,\n",
       "                                                      16, 18, 20],\n",
       "                                        'min_child_weight': [1, 2, 3, 4, 5, 6,\n",
       "                                                             7, 8, 9, 10],\n",
       "                                        'n_estimators': [200, 400, 600, 800,\n",
       "                                                         1000, 1200, 1400, 1600,\n",
       "                                                         1800, 2000],\n",
       "                                        'objective': ['reg:squarederror',\n",
       "                                                      'reg:squaredlogerror'],\n",
       "                                        'tree_method': ['auto', 'exact',\n",
       "                                                        'approx', 'hist',\n",
       "                                                        'gpu_hist']},\n",
       "                   random_state=420, verbose=2)"
      ]
     },
     "execution_count": 58,
     "metadata": {},
     "output_type": "execute_result"
    }
   ],
   "source": [
    "# Create the model to be tuned\n",
    "xgb_base = XGBRegressor()\n",
    "\n",
    "# Create the random search Random Forest\n",
    "xgb_random = RandomizedSearchCV(estimator = xgb_base, param_distributions = xgb_grid, \n",
    "                                n_iter = 200, cv = 3, verbose = 2, \n",
    "                                random_state = 420, n_jobs = -1)\n",
    "\n",
    "# Fit the random search model\n",
    "xgb_random.fit(X_train_temp, y_train_temp)"
   ]
  },
  {
   "cell_type": "code",
   "execution_count": 59,
   "metadata": {},
   "outputs": [
    {
     "data": {
      "text/plain": [
       "{'tree_method': 'exact',\n",
       " 'objective': 'reg:squarederror',\n",
       " 'n_estimators': 800,\n",
       " 'min_child_weight': 3,\n",
       " 'max_depth': 8,\n",
       " 'gamma': 0,\n",
       " 'eta': 0.1}"
      ]
     },
     "execution_count": 59,
     "metadata": {},
     "output_type": "execute_result"
    }
   ],
   "source": [
    "# Get the optimal parameters\n",
    "xgb_random.best_params_"
   ]
  },
  {
   "cell_type": "markdown",
   "metadata": {},
   "source": [
    "## Finally using the test data"
   ]
  },
  {
   "cell_type": "markdown",
   "metadata": {},
   "source": [
    "After inspecting the performance of the three different models used in this analysis and performing hpyerparameter tuning, it's time to try out how good these models really are, this time using the test set for evaluating model performance.\n",
    "\n",
    "In what follows I will train the models on the entire 80% of the original dataset as the training set and test it on the 20% hold out set that we have not touched up until now. I will use the optimal hyperparameters found through randomised grid search for Random Forest and Extreme Gradient Booster."
   ]
  },
  {
   "cell_type": "code",
   "execution_count": 60,
   "metadata": {},
   "outputs": [],
   "source": [
    "# Create the final multiple linear regression\n",
    "mlr_final = LinearRegression()\n",
    "\n",
    "# Create the final Random Forest\n",
    "rf_final = RandomForestRegressor(n_estimators = 200,\n",
    "                                 min_samples_split = 6,\n",
    "                                 min_impurity_decrease = 0.0,\n",
    "                                 max_features = 'sqrt',\n",
    "                                 max_depth = 25,\n",
    "                                 criterion = 'mae',\n",
    "                                 bootstrap = True,\n",
    "                                 random_state = 42)"
   ]
  },
  {
   "cell_type": "code",
   "execution_count": 61,
   "metadata": {},
   "outputs": [],
   "source": [
    "# Create the fnal Extreme Gradient Booster\n",
    "xgb_final = XGBRegressor(tree_method = 'exact',\n",
    "                         objective = 'reg:squarederror',\n",
    "                         n_estimators = 1600,\n",
    "                         min_child_weight = 6,\n",
    "                         max_depth = 8,\n",
    "                         gamma = 0,\n",
    "                         eta = 0.1,\n",
    "                         random_state = 42)"
   ]
  },
  {
   "cell_type": "code",
   "execution_count": 62,
   "metadata": {},
   "outputs": [
    {
     "name": "stderr",
     "output_type": "stream",
     "text": [
      "C:\\Users\\vijayalakshmi\\anaconda3\\lib\\site-packages\\sklearn\\ensemble\\_forest.py:407: FutureWarning: Criterion 'mae' was deprecated in v1.0 and will be removed in version 1.2. Use `criterion='absolute_error'` which is equivalent.\n",
      "  FutureWarning,\n"
     ]
    },
    {
     "data": {
      "text/plain": [
       "RandomForestRegressor(criterion='mae', max_depth=25, max_features='sqrt',\n",
       "                      min_samples_split=6, n_estimators=200, random_state=42)"
      ]
     },
     "execution_count": 62,
     "metadata": {},
     "output_type": "execute_result"
    }
   ],
   "source": [
    "# Train the models using 80% of the original data\n",
    "mlr_final.fit(X_train_temp, y_train_temp)\n",
    "rf_final.fit(X_train_temp, y_train_temp)"
   ]
  },
  {
   "cell_type": "code",
   "execution_count": 63,
   "metadata": {},
   "outputs": [
    {
     "data": {
      "text/plain": [
       "XGBRegressor(base_score=0.5, booster='gbtree', callbacks=None,\n",
       "             colsample_bylevel=1, colsample_bynode=1, colsample_bytree=1,\n",
       "             early_stopping_rounds=None, enable_categorical=False, eta=0.1,\n",
       "             eval_metric=None, gamma=0, gpu_id=-1, grow_policy='depthwise',\n",
       "             importance_type=None, interaction_constraints='',\n",
       "             learning_rate=0.100000001, max_bin=256, max_cat_to_onehot=4,\n",
       "             max_delta_step=0, max_depth=8, max_leaves=0, min_child_weight=6,\n",
       "             missing=nan, monotone_constraints='()', n_estimators=1600,\n",
       "             n_jobs=0, num_parallel_tree=1, predictor='auto', random_state=42,\n",
       "             reg_alpha=0, ...)"
      ]
     },
     "execution_count": 63,
     "metadata": {},
     "output_type": "execute_result"
    }
   ],
   "source": [
    "# Train the final XGB using 80% of the original data\n",
    "xgb_final.fit(X_train_temp, y_train_temp)"
   ]
  },
  {
   "cell_type": "code",
   "execution_count": 64,
   "metadata": {},
   "outputs": [],
   "source": [
    "# Define a function that compares all final models\n",
    "def final_comparison(models, test_features, test_labels):\n",
    "    scores = pd.DataFrame()\n",
    "    for model in models:\n",
    "        predictions = model.predict(test_features)\n",
    "        mae = round(mean_absolute_error(test_labels, predictions), 4)\n",
    "        mse = round(mean_squared_error(test_labels, predictions), 4)\n",
    "        r2 = round(r2_score(test_labels, predictions), 4)\n",
    "        errors = abs(predictions - test_labels)\n",
    "        mape = 100 * np.mean(errors / test_labels)\n",
    "        accuracy = round(100 - mape, 4)\n",
    "        scores[str(model)] = [mae, mse, r2, accuracy]\n",
    "    scores.index = ['Mean Absolute Error', 'Mean Squared Error', 'R^2', 'Accuracy']\n",
    "    return scores"
   ]
  },
  {
   "cell_type": "code",
   "execution_count": 65,
   "metadata": {},
   "outputs": [
    {
     "data": {
      "text/html": [
       "<div>\n",
       "<style scoped>\n",
       "    .dataframe tbody tr th:only-of-type {\n",
       "        vertical-align: middle;\n",
       "    }\n",
       "\n",
       "    .dataframe tbody tr th {\n",
       "        vertical-align: top;\n",
       "    }\n",
       "\n",
       "    .dataframe thead th {\n",
       "        text-align: right;\n",
       "    }\n",
       "</style>\n",
       "<table border=\"1\" class=\"dataframe\">\n",
       "  <thead>\n",
       "    <tr style=\"text-align: right;\">\n",
       "      <th></th>\n",
       "      <th>Linear Regression</th>\n",
       "      <th>Random Forest</th>\n",
       "      <th>Extreme Gradient Boosting</th>\n",
       "    </tr>\n",
       "  </thead>\n",
       "  <tbody>\n",
       "    <tr>\n",
       "      <th>Mean Absolute Error</th>\n",
       "      <td>2.0010</td>\n",
       "      <td>0.4218</td>\n",
       "      <td>0.0299</td>\n",
       "    </tr>\n",
       "    <tr>\n",
       "      <th>Mean Squared Error</th>\n",
       "      <td>6.6600</td>\n",
       "      <td>0.3566</td>\n",
       "      <td>0.0479</td>\n",
       "    </tr>\n",
       "    <tr>\n",
       "      <th>R^2</th>\n",
       "      <td>0.7478</td>\n",
       "      <td>0.9865</td>\n",
       "      <td>0.9982</td>\n",
       "    </tr>\n",
       "    <tr>\n",
       "      <th>Accuracy</th>\n",
       "      <td>97.5130</td>\n",
       "      <td>99.4798</td>\n",
       "      <td>99.9643</td>\n",
       "    </tr>\n",
       "  </tbody>\n",
       "</table>\n",
       "</div>"
      ],
      "text/plain": [
       "                     Linear Regression  Random Forest  \\\n",
       "Mean Absolute Error             2.0010         0.4218   \n",
       "Mean Squared Error              6.6600         0.3566   \n",
       "R^2                             0.7478         0.9865   \n",
       "Accuracy                       97.5130        99.4798   \n",
       "\n",
       "                     Extreme Gradient Boosting  \n",
       "Mean Absolute Error                     0.0299  \n",
       "Mean Squared Error                      0.0479  \n",
       "R^2                                     0.9982  \n",
       "Accuracy                               99.9643  "
      ]
     },
     "execution_count": 65,
     "metadata": {},
     "output_type": "execute_result"
    }
   ],
   "source": [
    "# Call the comparison function with the three final models\n",
    "final_scores = final_comparison([mlr_final, rf_final, xgb_final], X_test, y_test)\n",
    "final_scores.columns  = ['Linear Regression', 'Random Forest', 'Extreme Gradient Boosting']\n",
    "final_scores"
   ]
  }
 ],
 "metadata": {
  "kernelspec": {
   "display_name": "Python 3 (ipykernel)",
   "language": "python",
   "name": "python3"
  },
  "language_info": {
   "codemirror_mode": {
    "name": "ipython",
    "version": 3
   },
   "file_extension": ".py",
   "mimetype": "text/x-python",
   "name": "python",
   "nbconvert_exporter": "python",
   "pygments_lexer": "ipython3",
   "version": "3.7.6"
  }
 },
 "nbformat": 4,
 "nbformat_minor": 4
}
